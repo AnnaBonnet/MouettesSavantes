{
 "cells": [
  {
   "cell_type": "markdown",
   "id": "c38b99e5",
   "metadata": {},
   "source": [
    "## Objectif\n",
    "\n",
    "On cherche à faire une analyse descriptive de la base de données Agribalyse en répondant notamment aux questions suivantes :\n",
    "\n",
    "* Quels sont les aliments dont la production émet le plus de CO2 ?\n",
    "\n",
    "* Quelle(s) étape(s) du processus de fabrication sont les plus émettrices de C02 ?\n",
    "\n",
    "On pourra ensuite comparer les coûts carbone de différents types d'alimentation, notamment en comparant le coût moyen d'un repas équilibré à base de viande, poisson ou végétarien. Pour avoir des comparaisons d'ordre de grandeur, on peut utiliser le site https://impactco2.fr/outils/comparateur\n",
    "\n",
    "## Données\n",
    "\n",
    "Le jeu de données agri_tot.csv est une base de données réduite obtenue à partir des données disponibles sur le site de l'ADEME, qui est l'Agence de la transition environnementale : https://agribalyse.ademe.fr/\n",
    "Elle contient les informations suivantes :\n",
    "\n",
    "- le nom du produit \n",
    "- le groupe du produit (fruit, légumes, viande...), dans la colonne \"sg\"\n",
    "- le kg de CO2 produit par kg de produit, en fonction de l'étape de production (Agriculure, Transport, Transformation...) et enfin le Total des émissions de CO2.\n",
    "\n"
   ]
  },
  {
   "cell_type": "markdown",
   "id": "efab645d",
   "metadata": {},
   "source": [
    "## Pour commencer : étude des émissions associées à chaque étape, en fonction du groupe de produit"
   ]
  },
  {
   "cell_type": "code",
   "execution_count": 1,
   "id": "68544d17",
   "metadata": {},
   "outputs": [],
   "source": [
    "import pandas as pd\n",
    "import numpy as np\n",
    "import matplotlib.pyplot as plt\n",
    "\n",
    "agri=pd.read_csv(\"agri_tot.csv\",sep=\",\",index_col=0)"
   ]
  },
  {
   "cell_type": "code",
   "execution_count": null,
   "id": "5cdbbb51",
   "metadata": {},
   "outputs": [],
   "source": []
  }
 ],
 "metadata": {
  "kernelspec": {
   "display_name": "Python 3 (ipykernel)",
   "language": "python",
   "name": "python3"
  },
  "language_info": {
   "codemirror_mode": {
    "name": "ipython",
    "version": 3
   },
   "file_extension": ".py",
   "mimetype": "text/x-python",
   "name": "python",
   "nbconvert_exporter": "python",
   "pygments_lexer": "ipython3",
   "version": "3.10.12"
  }
 },
 "nbformat": 4,
 "nbformat_minor": 5
}
