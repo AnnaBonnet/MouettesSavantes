{
 "cells": [
  {
   "cell_type": "markdown",
   "id": "b1eb5179",
   "metadata": {},
   "source": [
    "## Installation de librairies Python"
   ]
  },
  {
   "cell_type": "code",
   "execution_count": 6,
   "id": "7ba3b154",
   "metadata": {},
   "outputs": [],
   "source": [
    "import pandas as pd ## librairie pour manipuler les jeux de données\n",
    "import numpy as np ## librairie avec des fonctions basiques implémentées\n"
   ]
  },
  {
   "cell_type": "markdown",
   "id": "df6e538d",
   "metadata": {},
   "source": [
    "## Commencer à coder en Python"
   ]
  },
  {
   "cell_type": "markdown",
   "id": "07a76e0e",
   "metadata": {},
   "source": [
    "On peut faire toutes les opérations basiques : addition, multiplication..."
   ]
  },
  {
   "cell_type": "code",
   "execution_count": 83,
   "id": "a482c604",
   "metadata": {},
   "outputs": [
    {
     "data": {
      "text/plain": [
       "3.5"
      ]
     },
     "execution_count": 83,
     "metadata": {},
     "output_type": "execute_result"
    }
   ],
   "source": [
    "a=1.5\n",
    "b=2\n",
    "a+b"
   ]
  },
  {
   "cell_type": "code",
   "execution_count": 84,
   "id": "e6c75c95",
   "metadata": {},
   "outputs": [
    {
     "data": {
      "text/plain": [
       "3.0"
      ]
     },
     "execution_count": 84,
     "metadata": {},
     "output_type": "execute_result"
    }
   ],
   "source": [
    "a*b"
   ]
  },
  {
   "cell_type": "markdown",
   "id": "9623a563",
   "metadata": {},
   "source": [
    "On peut définir des objets qui sont des nombres, comme a et b ci-dessus, mais également des chaînes de caractères, qu'on va alors mettre entre guillemets :"
   ]
  },
  {
   "cell_type": "code",
   "execution_count": 85,
   "id": "bb998462",
   "metadata": {},
   "outputs": [
    {
     "data": {
      "text/plain": [
       "'chien'"
      ]
     },
     "execution_count": 85,
     "metadata": {},
     "output_type": "execute_result"
    }
   ],
   "source": [
    "c=\"chien\"\n",
    "c"
   ]
  },
  {
   "cell_type": "markdown",
   "id": "0a692cf8",
   "metadata": {},
   "source": [
    "### Tester une condition "
   ]
  },
  {
   "cell_type": "code",
   "execution_count": 86,
   "id": "dfbafd51",
   "metadata": {},
   "outputs": [
    {
     "data": {
      "text/plain": [
       "True"
      ]
     },
     "execution_count": 86,
     "metadata": {},
     "output_type": "execute_result"
    }
   ],
   "source": [
    "a<b"
   ]
  },
  {
   "cell_type": "code",
   "execution_count": 87,
   "id": "ea7682a3",
   "metadata": {},
   "outputs": [
    {
     "data": {
      "text/plain": [
       "False"
      ]
     },
     "execution_count": 87,
     "metadata": {},
     "output_type": "execute_result"
    }
   ],
   "source": [
    "a==1"
   ]
  },
  {
   "cell_type": "markdown",
   "id": "4a433774",
   "metadata": {},
   "source": [
    "On remarque qu'on a utilisé \"==\" et non \"=\". Pourquoi ? Parce que si j'écris a=b, ça veut dire que je définis la variable a qui est égale à 1. Essayons :"
   ]
  },
  {
   "cell_type": "code",
   "execution_count": 88,
   "id": "031267ae",
   "metadata": {},
   "outputs": [
    {
     "data": {
      "text/plain": [
       "1"
      ]
     },
     "execution_count": 88,
     "metadata": {},
     "output_type": "execute_result"
    }
   ],
   "source": [
    "a=1\n",
    "a"
   ]
  },
  {
   "cell_type": "code",
   "execution_count": 89,
   "id": "49ca759c",
   "metadata": {},
   "outputs": [],
   "source": [
    "vec=[1,2,3]\n"
   ]
  },
  {
   "cell_type": "markdown",
   "id": "b424ec78",
   "metadata": {},
   "source": [
    "Beaucoup de fonctions sont déjà implémentées dans Python : le minimum, le maximum, la moyenne, la somme, la longueur..."
   ]
  },
  {
   "cell_type": "code",
   "execution_count": 90,
   "id": "e462e777",
   "metadata": {},
   "outputs": [
    {
     "data": {
      "text/plain": [
       "1"
      ]
     },
     "execution_count": 90,
     "metadata": {},
     "output_type": "execute_result"
    }
   ],
   "source": [
    "min(vec)"
   ]
  },
  {
   "cell_type": "code",
   "execution_count": 91,
   "id": "b7505d66",
   "metadata": {},
   "outputs": [
    {
     "data": {
      "text/plain": [
       "3"
      ]
     },
     "execution_count": 91,
     "metadata": {},
     "output_type": "execute_result"
    }
   ],
   "source": [
    "max(vec)"
   ]
  },
  {
   "cell_type": "code",
   "execution_count": 92,
   "id": "905169f9",
   "metadata": {},
   "outputs": [
    {
     "data": {
      "text/plain": [
       "6"
      ]
     },
     "execution_count": 92,
     "metadata": {},
     "output_type": "execute_result"
    }
   ],
   "source": [
    "\n",
    "\n",
    "sum(vec)"
   ]
  },
  {
   "cell_type": "code",
   "execution_count": 93,
   "id": "3cee0cae",
   "metadata": {},
   "outputs": [
    {
     "data": {
      "text/plain": [
       "3"
      ]
     },
     "execution_count": 93,
     "metadata": {},
     "output_type": "execute_result"
    }
   ],
   "source": [
    "len(vec)"
   ]
  },
  {
   "cell_type": "markdown",
   "id": "7f0d10f2",
   "metadata": {},
   "source": [
    "La fonction \"in\" permet de tester si un élément appartient à un ensemble :"
   ]
  },
  {
   "cell_type": "code",
   "execution_count": 94,
   "id": "dc004221",
   "metadata": {},
   "outputs": [
    {
     "data": {
      "text/plain": [
       "True"
      ]
     },
     "execution_count": 94,
     "metadata": {},
     "output_type": "execute_result"
    }
   ],
   "source": [
    "2 in vec"
   ]
  },
  {
   "cell_type": "code",
   "execution_count": 95,
   "id": "ecb138a3",
   "metadata": {},
   "outputs": [
    {
     "data": {
      "text/plain": [
       "False"
      ]
     },
     "execution_count": 95,
     "metadata": {},
     "output_type": "execute_result"
    }
   ],
   "source": [
    "4 in vec"
   ]
  },
  {
   "cell_type": "markdown",
   "id": "4199e0e1",
   "metadata": {},
   "source": [
    "D'autres fonctions sont dans la librairie numpy, comme la moyenne, il faut alors dire à Python d'aller chercher cette fonction dans numpy :"
   ]
  },
  {
   "cell_type": "code",
   "execution_count": 96,
   "id": "1194819d",
   "metadata": {},
   "outputs": [
    {
     "data": {
      "text/plain": [
       "2.0"
      ]
     },
     "execution_count": 96,
     "metadata": {},
     "output_type": "execute_result"
    }
   ],
   "source": [
    "np.mean(vec)"
   ]
  },
  {
   "cell_type": "markdown",
   "id": "4b0fcf2c",
   "metadata": {},
   "source": [
    "## Importation d'un jeu de données et visualisation"
   ]
  },
  {
   "cell_type": "markdown",
   "id": "d54e6b2e",
   "metadata": {},
   "source": [
    "On commence par dire à Python d'importer jeu de données temperat_Europe.csv, qui doit se trouver sur notre ordinateur, dans le même dossier que le notebook (ou alors, on doit indiquer à Python où aller chercher le jeu de données). L'option \"sep\" permet d'indiquer comment sont séparées les données (selon les fichiers, ça peut être des virgules, des points-virgules, des espaces...)."
   ]
  },
  {
   "cell_type": "code",
   "execution_count": 7,
   "id": "90047206",
   "metadata": {},
   "outputs": [],
   "source": [
    "\n",
    "\n",
    "temperatures=pd.read_csv(\"temperat_Europe.csv\",sep=\"\\t\")"
   ]
  },
  {
   "cell_type": "markdown",
   "id": "b5f48d82",
   "metadata": {},
   "source": [
    "On peut avoir un aperçu du jeu de données avec la fonction head :"
   ]
  },
  {
   "cell_type": "code",
   "execution_count": 8,
   "id": "ef7e15b4",
   "metadata": {},
   "outputs": [
    {
     "data": {
      "text/html": [
       "<div>\n",
       "<style scoped>\n",
       "    .dataframe tbody tr th:only-of-type {\n",
       "        vertical-align: middle;\n",
       "    }\n",
       "\n",
       "    .dataframe tbody tr th {\n",
       "        vertical-align: top;\n",
       "    }\n",
       "\n",
       "    .dataframe thead th {\n",
       "        text-align: right;\n",
       "    }\n",
       "</style>\n",
       "<table border=\"1\" class=\"dataframe\">\n",
       "  <thead>\n",
       "    <tr style=\"text-align: right;\">\n",
       "      <th></th>\n",
       "      <th>Unnamed: 0</th>\n",
       "      <th>Janvier</th>\n",
       "      <th>Fevrier</th>\n",
       "      <th>Mars</th>\n",
       "      <th>Avril</th>\n",
       "      <th>Mai</th>\n",
       "      <th>Juin</th>\n",
       "      <th>Juillet</th>\n",
       "      <th>Aout</th>\n",
       "      <th>Septembre</th>\n",
       "      <th>Octobre</th>\n",
       "      <th>Novembre</th>\n",
       "      <th>Decembre</th>\n",
       "      <th>Moyenne</th>\n",
       "      <th>Amplitude</th>\n",
       "      <th>Latitude</th>\n",
       "      <th>Longitude</th>\n",
       "      <th>Region</th>\n",
       "    </tr>\n",
       "  </thead>\n",
       "  <tbody>\n",
       "    <tr>\n",
       "      <th>0</th>\n",
       "      <td>Amsterdam</td>\n",
       "      <td>2.9</td>\n",
       "      <td>2.5</td>\n",
       "      <td>5.7</td>\n",
       "      <td>8.2</td>\n",
       "      <td>12.5</td>\n",
       "      <td>14.8</td>\n",
       "      <td>17.1</td>\n",
       "      <td>17.1</td>\n",
       "      <td>14.5</td>\n",
       "      <td>11.4</td>\n",
       "      <td>7.0</td>\n",
       "      <td>4.4</td>\n",
       "      <td>9.9</td>\n",
       "      <td>14.6</td>\n",
       "      <td>52.2</td>\n",
       "      <td>4.5</td>\n",
       "      <td>Ouest</td>\n",
       "    </tr>\n",
       "    <tr>\n",
       "      <th>1</th>\n",
       "      <td>Athenes</td>\n",
       "      <td>9.1</td>\n",
       "      <td>9.7</td>\n",
       "      <td>11.7</td>\n",
       "      <td>15.4</td>\n",
       "      <td>20.1</td>\n",
       "      <td>24.5</td>\n",
       "      <td>27.4</td>\n",
       "      <td>27.2</td>\n",
       "      <td>23.8</td>\n",
       "      <td>19.2</td>\n",
       "      <td>14.6</td>\n",
       "      <td>11.0</td>\n",
       "      <td>17.8</td>\n",
       "      <td>18.3</td>\n",
       "      <td>37.6</td>\n",
       "      <td>23.5</td>\n",
       "      <td>Sud</td>\n",
       "    </tr>\n",
       "    <tr>\n",
       "      <th>2</th>\n",
       "      <td>Berlin</td>\n",
       "      <td>-0.2</td>\n",
       "      <td>0.1</td>\n",
       "      <td>4.4</td>\n",
       "      <td>8.2</td>\n",
       "      <td>13.8</td>\n",
       "      <td>16.0</td>\n",
       "      <td>18.3</td>\n",
       "      <td>18.0</td>\n",
       "      <td>14.4</td>\n",
       "      <td>10.0</td>\n",
       "      <td>4.2</td>\n",
       "      <td>1.2</td>\n",
       "      <td>9.1</td>\n",
       "      <td>18.5</td>\n",
       "      <td>52.3</td>\n",
       "      <td>13.2</td>\n",
       "      <td>Ouest</td>\n",
       "    </tr>\n",
       "    <tr>\n",
       "      <th>3</th>\n",
       "      <td>Bruxelles</td>\n",
       "      <td>3.3</td>\n",
       "      <td>3.3</td>\n",
       "      <td>6.7</td>\n",
       "      <td>8.9</td>\n",
       "      <td>12.8</td>\n",
       "      <td>15.6</td>\n",
       "      <td>17.8</td>\n",
       "      <td>17.8</td>\n",
       "      <td>15.0</td>\n",
       "      <td>11.1</td>\n",
       "      <td>6.7</td>\n",
       "      <td>4.4</td>\n",
       "      <td>10.3</td>\n",
       "      <td>14.4</td>\n",
       "      <td>50.5</td>\n",
       "      <td>4.2</td>\n",
       "      <td>Ouest</td>\n",
       "    </tr>\n",
       "    <tr>\n",
       "      <th>4</th>\n",
       "      <td>Budapest</td>\n",
       "      <td>-1.1</td>\n",
       "      <td>0.8</td>\n",
       "      <td>5.5</td>\n",
       "      <td>11.6</td>\n",
       "      <td>17.0</td>\n",
       "      <td>20.2</td>\n",
       "      <td>22.0</td>\n",
       "      <td>21.3</td>\n",
       "      <td>16.9</td>\n",
       "      <td>11.3</td>\n",
       "      <td>5.1</td>\n",
       "      <td>0.7</td>\n",
       "      <td>10.9</td>\n",
       "      <td>23.1</td>\n",
       "      <td>47.3</td>\n",
       "      <td>19.0</td>\n",
       "      <td>Est</td>\n",
       "    </tr>\n",
       "  </tbody>\n",
       "</table>\n",
       "</div>"
      ],
      "text/plain": [
       "  Unnamed: 0  Janvier  Fevrier  Mars  Avril   Mai  Juin  Juillet  Aout  \\\n",
       "0  Amsterdam      2.9      2.5   5.7    8.2  12.5  14.8     17.1  17.1   \n",
       "1    Athenes      9.1      9.7  11.7   15.4  20.1  24.5     27.4  27.2   \n",
       "2     Berlin     -0.2      0.1   4.4    8.2  13.8  16.0     18.3  18.0   \n",
       "3  Bruxelles      3.3      3.3   6.7    8.9  12.8  15.6     17.8  17.8   \n",
       "4   Budapest     -1.1      0.8   5.5   11.6  17.0  20.2     22.0  21.3   \n",
       "\n",
       "   Septembre  Octobre  Novembre  Decembre  Moyenne  Amplitude  Latitude  \\\n",
       "0       14.5     11.4       7.0       4.4      9.9       14.6      52.2   \n",
       "1       23.8     19.2      14.6      11.0     17.8       18.3      37.6   \n",
       "2       14.4     10.0       4.2       1.2      9.1       18.5      52.3   \n",
       "3       15.0     11.1       6.7       4.4     10.3       14.4      50.5   \n",
       "4       16.9     11.3       5.1       0.7     10.9       23.1      47.3   \n",
       "\n",
       "   Longitude Region  \n",
       "0        4.5  Ouest  \n",
       "1       23.5    Sud  \n",
       "2       13.2  Ouest  \n",
       "3        4.2  Ouest  \n",
       "4       19.0    Est  "
      ]
     },
     "execution_count": 8,
     "metadata": {},
     "output_type": "execute_result"
    }
   ],
   "source": [
    "temperatures.head()"
   ]
  },
  {
   "cell_type": "markdown",
   "id": "e2007109",
   "metadata": {},
   "source": [
    "On peut sélectionner et afficher une sous-partie du jeu de données, par exemple uniquement la colonne \"Janvier\" ou bien les colonnes \"Janvier\" et \"Février\""
   ]
  },
  {
   "cell_type": "code",
   "execution_count": 9,
   "id": "611538c6",
   "metadata": {},
   "outputs": [
    {
     "data": {
      "text/html": [
       "<div>\n",
       "<style scoped>\n",
       "    .dataframe tbody tr th:only-of-type {\n",
       "        vertical-align: middle;\n",
       "    }\n",
       "\n",
       "    .dataframe tbody tr th {\n",
       "        vertical-align: top;\n",
       "    }\n",
       "\n",
       "    .dataframe thead th {\n",
       "        text-align: right;\n",
       "    }\n",
       "</style>\n",
       "<table border=\"1\" class=\"dataframe\">\n",
       "  <thead>\n",
       "    <tr style=\"text-align: right;\">\n",
       "      <th></th>\n",
       "      <th>Janvier</th>\n",
       "    </tr>\n",
       "  </thead>\n",
       "  <tbody>\n",
       "    <tr>\n",
       "      <th>0</th>\n",
       "      <td>2.9</td>\n",
       "    </tr>\n",
       "    <tr>\n",
       "      <th>1</th>\n",
       "      <td>9.1</td>\n",
       "    </tr>\n",
       "    <tr>\n",
       "      <th>2</th>\n",
       "      <td>-0.2</td>\n",
       "    </tr>\n",
       "    <tr>\n",
       "      <th>3</th>\n",
       "      <td>3.3</td>\n",
       "    </tr>\n",
       "    <tr>\n",
       "      <th>4</th>\n",
       "      <td>-1.1</td>\n",
       "    </tr>\n",
       "    <tr>\n",
       "      <th>5</th>\n",
       "      <td>-0.4</td>\n",
       "    </tr>\n",
       "    <tr>\n",
       "      <th>6</th>\n",
       "      <td>4.8</td>\n",
       "    </tr>\n",
       "    <tr>\n",
       "      <th>7</th>\n",
       "      <td>-5.8</td>\n",
       "    </tr>\n",
       "    <tr>\n",
       "      <th>8</th>\n",
       "      <td>-5.9</td>\n",
       "    </tr>\n",
       "    <tr>\n",
       "      <th>9</th>\n",
       "      <td>-3.7</td>\n",
       "    </tr>\n",
       "    <tr>\n",
       "      <th>10</th>\n",
       "      <td>10.5</td>\n",
       "    </tr>\n",
       "    <tr>\n",
       "      <th>11</th>\n",
       "      <td>3.4</td>\n",
       "    </tr>\n",
       "    <tr>\n",
       "      <th>12</th>\n",
       "      <td>5.0</td>\n",
       "    </tr>\n",
       "    <tr>\n",
       "      <th>13</th>\n",
       "      <td>-6.9</td>\n",
       "    </tr>\n",
       "    <tr>\n",
       "      <th>14</th>\n",
       "      <td>-9.3</td>\n",
       "    </tr>\n",
       "    <tr>\n",
       "      <th>15</th>\n",
       "      <td>-4.3</td>\n",
       "    </tr>\n",
       "    <tr>\n",
       "      <th>16</th>\n",
       "      <td>3.7</td>\n",
       "    </tr>\n",
       "    <tr>\n",
       "      <th>17</th>\n",
       "      <td>-1.3</td>\n",
       "    </tr>\n",
       "    <tr>\n",
       "      <th>18</th>\n",
       "      <td>-0.3</td>\n",
       "    </tr>\n",
       "    <tr>\n",
       "      <th>19</th>\n",
       "      <td>7.1</td>\n",
       "    </tr>\n",
       "    <tr>\n",
       "      <th>20</th>\n",
       "      <td>-1.4</td>\n",
       "    </tr>\n",
       "    <tr>\n",
       "      <th>21</th>\n",
       "      <td>-1.7</td>\n",
       "    </tr>\n",
       "    <tr>\n",
       "      <th>22</th>\n",
       "      <td>-3.5</td>\n",
       "    </tr>\n",
       "    <tr>\n",
       "      <th>23</th>\n",
       "      <td>3.1</td>\n",
       "    </tr>\n",
       "    <tr>\n",
       "      <th>24</th>\n",
       "      <td>9.1</td>\n",
       "    </tr>\n",
       "    <tr>\n",
       "      <th>25</th>\n",
       "      <td>5.6</td>\n",
       "    </tr>\n",
       "    <tr>\n",
       "      <th>26</th>\n",
       "      <td>2.9</td>\n",
       "    </tr>\n",
       "    <tr>\n",
       "      <th>27</th>\n",
       "      <td>0.2</td>\n",
       "    </tr>\n",
       "    <tr>\n",
       "      <th>28</th>\n",
       "      <td>0.1</td>\n",
       "    </tr>\n",
       "    <tr>\n",
       "      <th>29</th>\n",
       "      <td>8.7</td>\n",
       "    </tr>\n",
       "    <tr>\n",
       "      <th>30</th>\n",
       "      <td>1.1</td>\n",
       "    </tr>\n",
       "    <tr>\n",
       "      <th>31</th>\n",
       "      <td>10.5</td>\n",
       "    </tr>\n",
       "    <tr>\n",
       "      <th>32</th>\n",
       "      <td>10.7</td>\n",
       "    </tr>\n",
       "    <tr>\n",
       "      <th>33</th>\n",
       "      <td>-8.2</td>\n",
       "    </tr>\n",
       "    <tr>\n",
       "      <th>34</th>\n",
       "      <td>-0.7</td>\n",
       "    </tr>\n",
       "  </tbody>\n",
       "</table>\n",
       "</div>"
      ],
      "text/plain": [
       "    Janvier\n",
       "0       2.9\n",
       "1       9.1\n",
       "2      -0.2\n",
       "3       3.3\n",
       "4      -1.1\n",
       "5      -0.4\n",
       "6       4.8\n",
       "7      -5.8\n",
       "8      -5.9\n",
       "9      -3.7\n",
       "10     10.5\n",
       "11      3.4\n",
       "12      5.0\n",
       "13     -6.9\n",
       "14     -9.3\n",
       "15     -4.3\n",
       "16      3.7\n",
       "17     -1.3\n",
       "18     -0.3\n",
       "19      7.1\n",
       "20     -1.4\n",
       "21     -1.7\n",
       "22     -3.5\n",
       "23      3.1\n",
       "24      9.1\n",
       "25      5.6\n",
       "26      2.9\n",
       "27      0.2\n",
       "28      0.1\n",
       "29      8.7\n",
       "30      1.1\n",
       "31     10.5\n",
       "32     10.7\n",
       "33     -8.2\n",
       "34     -0.7"
      ]
     },
     "execution_count": 9,
     "metadata": {},
     "output_type": "execute_result"
    }
   ],
   "source": [
    "temperatures[[\"Janvier\"]]"
   ]
  },
  {
   "cell_type": "code",
   "execution_count": 100,
   "id": "95a47bad",
   "metadata": {},
   "outputs": [
    {
     "data": {
      "text/html": [
       "<div>\n",
       "<style scoped>\n",
       "    .dataframe tbody tr th:only-of-type {\n",
       "        vertical-align: middle;\n",
       "    }\n",
       "\n",
       "    .dataframe tbody tr th {\n",
       "        vertical-align: top;\n",
       "    }\n",
       "\n",
       "    .dataframe thead th {\n",
       "        text-align: right;\n",
       "    }\n",
       "</style>\n",
       "<table border=\"1\" class=\"dataframe\">\n",
       "  <thead>\n",
       "    <tr style=\"text-align: right;\">\n",
       "      <th></th>\n",
       "      <th>Janvier</th>\n",
       "      <th>Fevrier</th>\n",
       "    </tr>\n",
       "  </thead>\n",
       "  <tbody>\n",
       "    <tr>\n",
       "      <th>0</th>\n",
       "      <td>2.9</td>\n",
       "      <td>2.5</td>\n",
       "    </tr>\n",
       "    <tr>\n",
       "      <th>1</th>\n",
       "      <td>9.1</td>\n",
       "      <td>9.7</td>\n",
       "    </tr>\n",
       "    <tr>\n",
       "      <th>2</th>\n",
       "      <td>-0.2</td>\n",
       "      <td>0.1</td>\n",
       "    </tr>\n",
       "    <tr>\n",
       "      <th>3</th>\n",
       "      <td>3.3</td>\n",
       "      <td>3.3</td>\n",
       "    </tr>\n",
       "    <tr>\n",
       "      <th>4</th>\n",
       "      <td>-1.1</td>\n",
       "      <td>0.8</td>\n",
       "    </tr>\n",
       "    <tr>\n",
       "      <th>5</th>\n",
       "      <td>-0.4</td>\n",
       "      <td>-0.4</td>\n",
       "    </tr>\n",
       "    <tr>\n",
       "      <th>6</th>\n",
       "      <td>4.8</td>\n",
       "      <td>5.0</td>\n",
       "    </tr>\n",
       "    <tr>\n",
       "      <th>7</th>\n",
       "      <td>-5.8</td>\n",
       "      <td>-6.2</td>\n",
       "    </tr>\n",
       "    <tr>\n",
       "      <th>8</th>\n",
       "      <td>-5.9</td>\n",
       "      <td>-5.0</td>\n",
       "    </tr>\n",
       "    <tr>\n",
       "      <th>9</th>\n",
       "      <td>-3.7</td>\n",
       "      <td>-2.0</td>\n",
       "    </tr>\n",
       "    <tr>\n",
       "      <th>10</th>\n",
       "      <td>10.5</td>\n",
       "      <td>11.3</td>\n",
       "    </tr>\n",
       "    <tr>\n",
       "      <th>11</th>\n",
       "      <td>3.4</td>\n",
       "      <td>4.2</td>\n",
       "    </tr>\n",
       "    <tr>\n",
       "      <th>12</th>\n",
       "      <td>5.0</td>\n",
       "      <td>6.6</td>\n",
       "    </tr>\n",
       "    <tr>\n",
       "      <th>13</th>\n",
       "      <td>-6.9</td>\n",
       "      <td>-6.2</td>\n",
       "    </tr>\n",
       "    <tr>\n",
       "      <th>14</th>\n",
       "      <td>-9.3</td>\n",
       "      <td>-7.6</td>\n",
       "    </tr>\n",
       "    <tr>\n",
       "      <th>15</th>\n",
       "      <td>-4.3</td>\n",
       "      <td>-3.8</td>\n",
       "    </tr>\n",
       "    <tr>\n",
       "      <th>16</th>\n",
       "      <td>3.7</td>\n",
       "      <td>3.7</td>\n",
       "    </tr>\n",
       "    <tr>\n",
       "      <th>17</th>\n",
       "      <td>-1.3</td>\n",
       "      <td>0.2</td>\n",
       "    </tr>\n",
       "    <tr>\n",
       "      <th>18</th>\n",
       "      <td>-0.3</td>\n",
       "      <td>0.1</td>\n",
       "    </tr>\n",
       "    <tr>\n",
       "      <th>19</th>\n",
       "      <td>7.1</td>\n",
       "      <td>8.2</td>\n",
       "    </tr>\n",
       "    <tr>\n",
       "      <th>20</th>\n",
       "      <td>-1.4</td>\n",
       "      <td>0.8</td>\n",
       "    </tr>\n",
       "    <tr>\n",
       "      <th>21</th>\n",
       "      <td>-1.7</td>\n",
       "      <td>0.2</td>\n",
       "    </tr>\n",
       "    <tr>\n",
       "      <th>22</th>\n",
       "      <td>-3.5</td>\n",
       "      <td>-3.5</td>\n",
       "    </tr>\n",
       "    <tr>\n",
       "      <th>23</th>\n",
       "      <td>3.1</td>\n",
       "      <td>2.9</td>\n",
       "    </tr>\n",
       "    <tr>\n",
       "      <th>24</th>\n",
       "      <td>9.1</td>\n",
       "      <td>10.3</td>\n",
       "    </tr>\n",
       "    <tr>\n",
       "      <th>25</th>\n",
       "      <td>5.6</td>\n",
       "      <td>6.7</td>\n",
       "    </tr>\n",
       "    <tr>\n",
       "      <th>26</th>\n",
       "      <td>2.9</td>\n",
       "      <td>3.6</td>\n",
       "    </tr>\n",
       "    <tr>\n",
       "      <th>27</th>\n",
       "      <td>0.2</td>\n",
       "      <td>1.8</td>\n",
       "    </tr>\n",
       "    <tr>\n",
       "      <th>28</th>\n",
       "      <td>0.1</td>\n",
       "      <td>1.9</td>\n",
       "    </tr>\n",
       "    <tr>\n",
       "      <th>29</th>\n",
       "      <td>8.7</td>\n",
       "      <td>8.7</td>\n",
       "    </tr>\n",
       "    <tr>\n",
       "      <th>30</th>\n",
       "      <td>1.1</td>\n",
       "      <td>3.6</td>\n",
       "    </tr>\n",
       "    <tr>\n",
       "      <th>31</th>\n",
       "      <td>10.5</td>\n",
       "      <td>11.5</td>\n",
       "    </tr>\n",
       "    <tr>\n",
       "      <th>32</th>\n",
       "      <td>10.7</td>\n",
       "      <td>11.8</td>\n",
       "    </tr>\n",
       "    <tr>\n",
       "      <th>33</th>\n",
       "      <td>-8.2</td>\n",
       "      <td>-7.9</td>\n",
       "    </tr>\n",
       "    <tr>\n",
       "      <th>34</th>\n",
       "      <td>-0.7</td>\n",
       "      <td>0.7</td>\n",
       "    </tr>\n",
       "  </tbody>\n",
       "</table>\n",
       "</div>"
      ],
      "text/plain": [
       "    Janvier  Fevrier\n",
       "0       2.9      2.5\n",
       "1       9.1      9.7\n",
       "2      -0.2      0.1\n",
       "3       3.3      3.3\n",
       "4      -1.1      0.8\n",
       "5      -0.4     -0.4\n",
       "6       4.8      5.0\n",
       "7      -5.8     -6.2\n",
       "8      -5.9     -5.0\n",
       "9      -3.7     -2.0\n",
       "10     10.5     11.3\n",
       "11      3.4      4.2\n",
       "12      5.0      6.6\n",
       "13     -6.9     -6.2\n",
       "14     -9.3     -7.6\n",
       "15     -4.3     -3.8\n",
       "16      3.7      3.7\n",
       "17     -1.3      0.2\n",
       "18     -0.3      0.1\n",
       "19      7.1      8.2\n",
       "20     -1.4      0.8\n",
       "21     -1.7      0.2\n",
       "22     -3.5     -3.5\n",
       "23      3.1      2.9\n",
       "24      9.1     10.3\n",
       "25      5.6      6.7\n",
       "26      2.9      3.6\n",
       "27      0.2      1.8\n",
       "28      0.1      1.9\n",
       "29      8.7      8.7\n",
       "30      1.1      3.6\n",
       "31     10.5     11.5\n",
       "32     10.7     11.8\n",
       "33     -8.2     -7.9\n",
       "34     -0.7      0.7"
      ]
     },
     "execution_count": 100,
     "metadata": {},
     "output_type": "execute_result"
    }
   ],
   "source": [
    "temperatures[[\"Janvier\",\"Fevrier\"]]\n"
   ]
  },
  {
   "cell_type": "markdown",
   "id": "a949de0f",
   "metadata": {},
   "source": [
    "Ou bien la 1e ligne (attention, la numérotation commence à 0 !) :"
   ]
  },
  {
   "cell_type": "code",
   "execution_count": 10,
   "id": "3101ab26",
   "metadata": {},
   "outputs": [
    {
     "data": {
      "text/plain": [
       "Unnamed: 0    Amsterdam\n",
       "Janvier             2.9\n",
       "Fevrier             2.5\n",
       "Mars                5.7\n",
       "Avril               8.2\n",
       "Mai                12.5\n",
       "Juin               14.8\n",
       "Juillet            17.1\n",
       "Aout               17.1\n",
       "Septembre          14.5\n",
       "Octobre            11.4\n",
       "Novembre            7.0\n",
       "Decembre            4.4\n",
       "Moyenne             9.9\n",
       "Amplitude          14.6\n",
       "Latitude           52.2\n",
       "Longitude           4.5\n",
       "Region            Ouest\n",
       "Name: 0, dtype: object"
      ]
     },
     "execution_count": 10,
     "metadata": {},
     "output_type": "execute_result"
    }
   ],
   "source": [
    "temperatures.loc[0]"
   ]
  },
  {
   "cell_type": "markdown",
   "id": "4edcf3bf",
   "metadata": {},
   "source": [
    "Ou encore l'intersection d'une ligne et d'une colonne :"
   ]
  },
  {
   "cell_type": "code",
   "execution_count": 102,
   "id": "3d6b263a",
   "metadata": {},
   "outputs": [
    {
     "data": {
      "text/plain": [
       "2.9"
      ]
     },
     "execution_count": 102,
     "metadata": {},
     "output_type": "execute_result"
    }
   ],
   "source": [
    "temperatures.loc[0,\"Janvier\"]"
   ]
  },
  {
   "cell_type": "markdown",
   "id": "ef0e72f9",
   "metadata": {},
   "source": [
    "Les boxplots (ou boîtes à moustaches) sont un outil de visualisation d'une variable quantitative (numérique) très intéressants ! La barre du milieu indique la valeur médiane, les bords de la boîte sont les quartiles, qu'on note $Q_1$ et$Q_3$. Pour les \"moustaches\", cela dépend des conventions, ça peut être les valeurs minimales et maximales, ou bien les quantiles d'ordre 5% et 95%, dans Python, elles sont données par $Q_1-1.5(Q_3-1)$ et $Q_3+1.5(Q_3-1)$. Ce qui est important, c'est que les boxplots nous renseignent sur les valeurs prises par la variable d'intérêt et notamment sur la dispersion des valeurs."
   ]
  },
  {
   "cell_type": "code",
   "execution_count": 103,
   "id": "81bda189",
   "metadata": {},
   "outputs": [
    {
     "data": {
      "text/plain": [
       "<AxesSubplot:>"
      ]
     },
     "execution_count": 103,
     "metadata": {},
     "output_type": "execute_result"
    },
    {
     "data": {
      "image/png": "[encoded data removed]",
      "text/plain": [
       "<Figure size 432x288 with 1 Axes>"
      ]
     },
     "metadata": {
      "needs_background": "light"
     },
     "output_type": "display_data"
    }
   ],
   "source": [
    "temperatures[[\"Janvier\"]].boxplot()"
   ]
  },
  {
   "cell_type": "markdown",
   "id": "c3b22ffc",
   "metadata": {},
   "source": [
    "On peut représenter plusieurs boxplots sur la même figure, ce qui permet notamment de les comparer. On voit par exemple une augmentation de la température, progressive de Janvier à Juillet, mais également que les températures varient moins en juillet qu'en janvier (les valeurs sont moins dispersées)."
   ]
  },
  {
   "cell_type": "code",
   "execution_count": 104,
   "id": "7f2e21c5",
   "metadata": {},
   "outputs": [
    {
     "data": {
      "text/plain": [
       "<AxesSubplot:>"
      ]
     },
     "execution_count": 104,
     "metadata": {},
     "output_type": "execute_result"
    },
    {
     "data": {
      "image/png": "[encoded data removed]",
      "text/plain": [
       "<Figure size 432x288 with 1 Axes>"
      ]
     },
     "metadata": {
      "needs_background": "light"
     },
     "output_type": "display_data"
    }
   ],
   "source": [
    "temperatures[[\"Janvier\",\"Fevrier\",\"Mars\",\"Avril\",\"Mai\",\"Juin\",\"Juillet\"]].boxplot()"
   ]
  },
  {
   "cell_type": "raw",
   "id": "4b61894c",
   "metadata": {},
   "source": [
    "La fonction groupby est très utile pour regrouper des variables en sous-groupes : par exemple, on peut afficher la température moyenne par région aux mois de janvier et février :"
   ]
  },
  {
   "cell_type": "code",
   "execution_count": 105,
   "id": "c646c1bb",
   "metadata": {},
   "outputs": [
    {
     "data": {
      "text/html": [
       "<div>\n",
       "<style scoped>\n",
       "    .dataframe tbody tr th:only-of-type {\n",
       "        vertical-align: middle;\n",
       "    }\n",
       "\n",
       "    .dataframe tbody tr th {\n",
       "        vertical-align: top;\n",
       "    }\n",
       "\n",
       "    .dataframe thead th {\n",
       "        text-align: right;\n",
       "    }\n",
       "</style>\n",
       "<table border=\"1\" class=\"dataframe\">\n",
       "  <thead>\n",
       "    <tr style=\"text-align: right;\">\n",
       "      <th></th>\n",
       "      <th>Janvier</th>\n",
       "      <th>Fevrier</th>\n",
       "    </tr>\n",
       "    <tr>\n",
       "      <th>Region</th>\n",
       "      <th></th>\n",
       "      <th></th>\n",
       "    </tr>\n",
       "  </thead>\n",
       "  <tbody>\n",
       "    <tr>\n",
       "      <th>Est</th>\n",
       "      <td>-4.7625</td>\n",
       "      <td>-3.437500</td>\n",
       "    </tr>\n",
       "    <tr>\n",
       "      <th>Nord</th>\n",
       "      <td>-0.4000</td>\n",
       "      <td>-0.125000</td>\n",
       "    </tr>\n",
       "    <tr>\n",
       "      <th>Ouest</th>\n",
       "      <td>2.0000</td>\n",
       "      <td>2.622222</td>\n",
       "    </tr>\n",
       "    <tr>\n",
       "      <th>Sud</th>\n",
       "      <td>7.0400</td>\n",
       "      <td>8.250000</td>\n",
       "    </tr>\n",
       "  </tbody>\n",
       "</table>\n",
       "</div>"
      ],
      "text/plain": [
       "        Janvier   Fevrier\n",
       "Region                   \n",
       "Est     -4.7625 -3.437500\n",
       "Nord    -0.4000 -0.125000\n",
       "Ouest    2.0000  2.622222\n",
       "Sud      7.0400  8.250000"
      ]
     },
     "execution_count": 105,
     "metadata": {},
     "output_type": "execute_result"
    }
   ],
   "source": [
    "\n",
    "temp_mean=temperatures.groupby(\"Region\")[[\"Janvier\",\"Fevrier\"]].mean()\n",
    "\n",
    "temp_mean"
   ]
  },
  {
   "cell_type": "markdown",
   "id": "f73b9018-088a-48bd-b1aa-a361fc13c37a",
   "metadata": {},
   "source": [
    "Dans un graphique on peut également colorer les points en fonction d'une variable :"
   ]
  },
  {
   "cell_type": "code",
   "execution_count": 19,
   "id": "35e028b3-4ca1-443c-8fbe-ba3f3fa8b26e",
   "metadata": {},
   "outputs": [
    {
     "data": {
      "text/plain": [
       "<seaborn.axisgrid.FacetGrid at 0x7ef0107bc9e0>"
      ]
     },
     "execution_count": 19,
     "metadata": {},
     "output_type": "execute_result"
    },
    {
     "data": {
      "image/png": "[encoded data removed]",
      "text/plain": [
       "<Figure size 595.75x500 with 1 Axes>"
      ]
     },
     "metadata": {},
     "output_type": "display_data"
    }
   ],
   "source": [
    "import matplotlib.pyplot as plt\n",
    "import seaborn as sns\n",
    "\n",
    "sns.relplot(x='Janvier', y='Juillet', hue =\"Region\", data=temperatures)\n",
    "\n"
   ]
  },
  {
   "cell_type": "markdown",
   "id": "a4a17f3e",
   "metadata": {},
   "source": [
    "## Autres représentations"
   ]
  },
  {
   "cell_type": "markdown",
   "id": "97d3772c",
   "metadata": {},
   "source": [
    "Sous forme de courbes :"
   ]
  },
  {
   "cell_type": "code",
   "execution_count": 11,
   "id": "822e9157",
   "metadata": {},
   "outputs": [
    {
     "data": {
      "image/png": "[encoded data removed]",
      "text/plain": [
       "<Figure size 1000x600 with 1 Axes>"
      ]
     },
     "metadata": {},
     "output_type": "display_data"
    }
   ],
   "source": [
    "consumption = pd.read_csv('defra_consumption.csv', sep=';', index_col=0)\n",
    "consumption.plot(figsize=(10, 6));"
   ]
  },
  {
   "cell_type": "markdown",
   "id": "cbe7c8c6",
   "metadata": {},
   "source": [
    "Sous forme de barplot (diagramme en barres) :"
   ]
  },
  {
   "cell_type": "code",
   "execution_count": 12,
   "id": "a5432a0e",
   "metadata": {},
   "outputs": [
    {
     "data": {
      "image/png": "[encoded data removed]",
      "text/plain": [
       "<Figure size 1000x600 with 1 Axes>"
      ]
     },
     "metadata": {},
     "output_type": "display_data"
    }
   ],
   "source": [
    "\n",
    "\n",
    "\n",
    "consumption.plot.barh(stacked=True, figsize=(10, 6));"
   ]
  },
  {
   "cell_type": "markdown",
   "id": "d34e8b58",
   "metadata": {},
   "source": [
    "Sous forme de camembert (pie) : ici on a fait les moyennes par type de produit."
   ]
  },
  {
   "cell_type": "code",
   "execution_count": 13,
   "id": "fc7708ff",
   "metadata": {},
   "outputs": [
    {
     "data": {
      "text/plain": [
       "<Axes: >"
      ]
     },
     "execution_count": 13,
     "metadata": {},
     "output_type": "execute_result"
    },
    {
     "data": {
      "image/png": "[encoded data removed]",
      "text/plain": [
       "<Figure size 600x600 with 1 Axes>"
      ]
     },
     "metadata": {},
     "output_type": "display_data"
    }
   ],
   "source": [
    "consumption.mean(axis=1).plot(kind='pie', figsize=(6, 6))"
   ]
  },
  {
   "cell_type": "markdown",
   "id": "e4b3cf36-8873-4024-9c16-ba50355ab600",
   "metadata": {},
   "source": [
    "### Représentation avec le package seaborn "
   ]
  },
  {
   "cell_type": "code",
   "execution_count": 15,
   "id": "8fdbe544-6f38-4630-95bf-b957e870aea1",
   "metadata": {},
   "outputs": [
    {
     "data": {
      "text/html": [
       "<div>\n",
       "<style scoped>\n",
       "    .dataframe tbody tr th:only-of-type {\n",
       "        vertical-align: middle;\n",
       "    }\n",
       "\n",
       "    .dataframe tbody tr th {\n",
       "        vertical-align: top;\n",
       "    }\n",
       "\n",
       "    .dataframe thead th {\n",
       "        text-align: right;\n",
       "    }\n",
       "</style>\n",
       "<table border=\"1\" class=\"dataframe\">\n",
       "  <thead>\n",
       "    <tr style=\"text-align: right;\">\n",
       "      <th></th>\n",
       "      <th>England</th>\n",
       "      <th>Wales</th>\n",
       "      <th>Scotland</th>\n",
       "      <th>N Ireland</th>\n",
       "    </tr>\n",
       "  </thead>\n",
       "  <tbody>\n",
       "    <tr>\n",
       "      <th>Cheese</th>\n",
       "      <td>105</td>\n",
       "      <td>103</td>\n",
       "      <td>103</td>\n",
       "      <td>66</td>\n",
       "    </tr>\n",
       "    <tr>\n",
       "      <th>Carcass meat</th>\n",
       "      <td>245</td>\n",
       "      <td>227</td>\n",
       "      <td>242</td>\n",
       "      <td>267</td>\n",
       "    </tr>\n",
       "    <tr>\n",
       "      <th>Other meat</th>\n",
       "      <td>685</td>\n",
       "      <td>803</td>\n",
       "      <td>750</td>\n",
       "      <td>586</td>\n",
       "    </tr>\n",
       "    <tr>\n",
       "      <th>Fish</th>\n",
       "      <td>147</td>\n",
       "      <td>160</td>\n",
       "      <td>122</td>\n",
       "      <td>93</td>\n",
       "    </tr>\n",
       "    <tr>\n",
       "      <th>Fats and oils</th>\n",
       "      <td>193</td>\n",
       "      <td>235</td>\n",
       "      <td>184</td>\n",
       "      <td>209</td>\n",
       "    </tr>\n",
       "  </tbody>\n",
       "</table>\n",
       "</div>"
      ],
      "text/plain": [
       "               England  Wales  Scotland  N Ireland\n",
       "Cheese             105    103       103         66\n",
       "Carcass meat       245    227       242        267\n",
       "Other meat         685    803       750        586\n",
       "Fish               147    160       122         93\n",
       "Fats and oils      193    235       184        209"
      ]
     },
     "execution_count": 15,
     "metadata": {},
     "output_type": "execute_result"
    }
   ],
   "source": [
    "\n",
    "consumption.head()"
   ]
  },
  {
   "cell_type": "markdown",
   "id": "1da8ef35-f470-4d67-8065-41c551bec8c7",
   "metadata": {},
   "source": [
    "Regardons si plus un produit est consommé en Angleterre (England), plus il le sera en Ecosse (Scotland)."
   ]
  },
  {
   "cell_type": "code",
   "execution_count": 17,
   "id": "e871a7bc-9d89-4bc3-9972-fe4b52a4d333",
   "metadata": {},
   "outputs": [
    {
     "data": {
      "text/plain": [
       "<seaborn.axisgrid.FacetGrid at 0x7ef0107a3590>"
      ]
     },
     "execution_count": 17,
     "metadata": {},
     "output_type": "execute_result"
    },
    {
     "data": {
      "image/png": "[encoded data removed]",
      "text/plain": [
       "<Figure size 500x500 with 1 Axes>"
      ]
     },
     "metadata": {},
     "output_type": "display_data"
    }
   ],
   "source": [
    "sns.relplot(x='England', y='Scotland',  data=consumption)\n"
   ]
  },
  {
   "cell_type": "markdown",
   "id": "d9b9cdce",
   "metadata": {},
   "source": [
    "## Coder en Python : les boucles"
   ]
  },
  {
   "cell_type": "markdown",
   "id": "519a11cd",
   "metadata": {},
   "source": [
    "### Boucle if "
   ]
  },
  {
   "cell_type": "code",
   "execution_count": 109,
   "id": "360ebd0b",
   "metadata": {},
   "outputs": [
    {
     "name": "stdout",
     "output_type": "stream",
     "text": [
      "goodbye\n"
     ]
    }
   ],
   "source": [
    "x=3\n",
    "y=2\n",
    "if (x<y):\n",
    "    print(\"hello\")\n",
    "elif (x==y):\n",
    "    print(\"hi\")\n",
    "else:\n",
    "    print(\"goodbye\")"
   ]
  },
  {
   "cell_type": "markdown",
   "id": "2dfa8dff",
   "metadata": {},
   "source": [
    "### Boucle for"
   ]
  },
  {
   "cell_type": "code",
   "execution_count": 110,
   "id": "1851c51a",
   "metadata": {},
   "outputs": [
    {
     "name": "stdout",
     "output_type": "stream",
     "text": [
      "10\n"
     ]
    }
   ],
   "source": [
    "compteur=0\n",
    "for i in range(10):\n",
    "    compteur=compteur+1\n",
    "print(compteur)    "
   ]
  },
  {
   "cell_type": "markdown",
   "id": "a9fca321",
   "metadata": {},
   "source": [
    "On utilise très souvent la fonction \"range\" qui donne une suite d'éléments. Par défaut range(n) donne tous les éléments entiers entre 0 et n (exclus), mais on peut aussi lui préciser le début, la fin et le pas de la suite :"
   ]
  },
  {
   "cell_type": "code",
   "execution_count": 111,
   "id": "f58e2203",
   "metadata": {},
   "outputs": [
    {
     "name": "stdout",
     "output_type": "stream",
     "text": [
      "10\n",
      "12\n",
      "14\n",
      "16\n",
      "18\n"
     ]
    }
   ],
   "source": [
    "for i in range(10,20,2):\n",
    "    print(i)"
   ]
  },
  {
   "cell_type": "markdown",
   "id": "7ac569f6",
   "metadata": {},
   "source": [
    "### Boucle while"
   ]
  },
  {
   "cell_type": "code",
   "execution_count": 112,
   "id": "e3eb10b5",
   "metadata": {},
   "outputs": [
    {
     "name": "stdout",
     "output_type": "stream",
     "text": [
      "0\n",
      "1\n",
      "2\n",
      "3\n",
      "4\n"
     ]
    }
   ],
   "source": [
    "i=0\n",
    "while (i <5):\n",
    "    print(i)\n",
    "    i=i+1\n"
   ]
  },
  {
   "cell_type": "markdown",
   "id": "6d607a0f",
   "metadata": {},
   "source": [
    "### Les fonctions"
   ]
  },
  {
   "cell_type": "code",
   "execution_count": 113,
   "id": "6b46f515",
   "metadata": {},
   "outputs": [],
   "source": [
    "def f(a,b):\n",
    "    return a+3*b\n",
    "    "
   ]
  },
  {
   "cell_type": "code",
   "execution_count": 114,
   "id": "f17c8f3b",
   "metadata": {},
   "outputs": [
    {
     "data": {
      "text/plain": [
       "17"
      ]
     },
     "execution_count": 114,
     "metadata": {},
     "output_type": "execute_result"
    }
   ],
   "source": [
    "f(2,5)"
   ]
  },
  {
   "cell_type": "markdown",
   "id": "b6bdcc41-f882-4dab-9d18-ed96ef88fbf9",
   "metadata": {},
   "source": [
    "## Les cartes \n",
    "\n",
    "Il faut des données avec les codes iso_alpha, un code de 3 lettres qui identifie chaque pays. Par exemple FRA identifie la france. \n",
    "Prenons un exemple avec des données dans le package plotly.express\n"
   ]
  },
  {
   "cell_type": "code",
   "execution_count": 1,
   "id": "1f110724-bc19-4a1f-a961-d917ef636736",
   "metadata": {},
   "outputs": [
    {
     "data": {
      "text/html": [
       "<div>\n",
       "<style scoped>\n",
       "    .dataframe tbody tr th:only-of-type {\n",
       "        vertical-align: middle;\n",
       "    }\n",
       "\n",
       "    .dataframe tbody tr th {\n",
       "        vertical-align: top;\n",
       "    }\n",
       "\n",
       "    .dataframe thead th {\n",
       "        text-align: right;\n",
       "    }\n",
       "</style>\n",
       "<table border=\"1\" class=\"dataframe\">\n",
       "  <thead>\n",
       "    <tr style=\"text-align: right;\">\n",
       "      <th></th>\n",
       "      <th>country</th>\n",
       "      <th>continent</th>\n",
       "      <th>year</th>\n",
       "      <th>lifeExp</th>\n",
       "      <th>pop</th>\n",
       "      <th>gdpPercap</th>\n",
       "      <th>iso_alpha</th>\n",
       "      <th>iso_num</th>\n",
       "    </tr>\n",
       "  </thead>\n",
       "  <tbody>\n",
       "    <tr>\n",
       "      <th>11</th>\n",
       "      <td>Afghanistan</td>\n",
       "      <td>Asia</td>\n",
       "      <td>2007</td>\n",
       "      <td>43.828</td>\n",
       "      <td>31889923</td>\n",
       "      <td>974.580338</td>\n",
       "      <td>AFG</td>\n",
       "      <td>4</td>\n",
       "    </tr>\n",
       "    <tr>\n",
       "      <th>23</th>\n",
       "      <td>Albania</td>\n",
       "      <td>Europe</td>\n",
       "      <td>2007</td>\n",
       "      <td>76.423</td>\n",
       "      <td>3600523</td>\n",
       "      <td>5937.029526</td>\n",
       "      <td>ALB</td>\n",
       "      <td>8</td>\n",
       "    </tr>\n",
       "    <tr>\n",
       "      <th>35</th>\n",
       "      <td>Algeria</td>\n",
       "      <td>Africa</td>\n",
       "      <td>2007</td>\n",
       "      <td>72.301</td>\n",
       "      <td>33333216</td>\n",
       "      <td>6223.367465</td>\n",
       "      <td>DZA</td>\n",
       "      <td>12</td>\n",
       "    </tr>\n",
       "    <tr>\n",
       "      <th>47</th>\n",
       "      <td>Angola</td>\n",
       "      <td>Africa</td>\n",
       "      <td>2007</td>\n",
       "      <td>42.731</td>\n",
       "      <td>12420476</td>\n",
       "      <td>4797.231267</td>\n",
       "      <td>AGO</td>\n",
       "      <td>24</td>\n",
       "    </tr>\n",
       "    <tr>\n",
       "      <th>59</th>\n",
       "      <td>Argentina</td>\n",
       "      <td>Americas</td>\n",
       "      <td>2007</td>\n",
       "      <td>75.320</td>\n",
       "      <td>40301927</td>\n",
       "      <td>12779.379640</td>\n",
       "      <td>ARG</td>\n",
       "      <td>32</td>\n",
       "    </tr>\n",
       "  </tbody>\n",
       "</table>\n",
       "</div>"
      ],
      "text/plain": [
       "        country continent  year  lifeExp       pop     gdpPercap iso_alpha  \\\n",
       "11  Afghanistan      Asia  2007   43.828  31889923    974.580338       AFG   \n",
       "23      Albania    Europe  2007   76.423   3600523   5937.029526       ALB   \n",
       "35      Algeria    Africa  2007   72.301  33333216   6223.367465       DZA   \n",
       "47       Angola    Africa  2007   42.731  12420476   4797.231267       AGO   \n",
       "59    Argentina  Americas  2007   75.320  40301927  12779.379640       ARG   \n",
       "\n",
       "    iso_num  \n",
       "11        4  \n",
       "23        8  \n",
       "35       12  \n",
       "47       24  \n",
       "59       32  "
      ]
     },
     "execution_count": 1,
     "metadata": {},
     "output_type": "execute_result"
    }
   ],
   "source": [
    "import plotly.express as px\n",
    "\n",
    "df = px.data.gapminder().query(\"year==2007\")\n",
    "\n",
    "df.head()"
   ]
  },
  {
   "cell_type": "markdown",
   "id": "5d180528-3ce4-471d-9a89-d86628eb3b8e",
   "metadata": {},
   "source": [
    "Ici on veut faire une carte avec comme couleur l'espérance de vie dans les pays. "
   ]
  },
  {
   "cell_type": "code",
   "execution_count": 21,
   "id": "5f84a551-4bcb-42c6-888d-7178d12269ed",
   "metadata": {},
   "outputs": [
    {
     "data": {
      "text/html": [
       "<iframe\n",
       "    scrolling=\"no\"\n",
       "    width=\"100%\"\n",
       "    height=\"545px\"\n",
       "    src=\"iframe_figures/figure_21.html\"\n",
       "    frameborder=\"0\"\n",
       "    allowfullscreen\n",
       "></iframe>\n"
      ]
     },
     "metadata": {},
     "output_type": "display_data"
    }
   ],
   "source": [
    "\n",
    "fig = px.choropleth(df, locations=\"iso_alpha\",\n",
    "                    color=\"lifeExp\", # lifeExp colonne qui va être utilisée pour la couleur\n",
    "                    hover_name=\"country\", # en plus on affichera le nom du pays quand on passe dessus avec la souris\n",
    "                    color_continuous_scale=px.colors.sequential.Plasma)\n",
    "fig.show(renderer='iframe')"
   ]
  },
  {
   "cell_type": "markdown",
   "id": "98f94c75-faee-4e53-a057-d92ac6efec0f",
   "metadata": {},
   "source": []
  },
  {
   "cell_type": "markdown",
   "id": "f93b93f1",
   "metadata": {},
   "source": [
    "## Exercices"
   ]
  },
  {
   "cell_type": "markdown",
   "id": "45e26755",
   "metadata": {},
   "source": [
    "Exercice 1 : Calculer de deux façons différentes la somme des entiers impairs entre 1 et 100."
   ]
  },
  {
   "cell_type": "code",
   "execution_count": 115,
   "id": "4ad2cf44",
   "metadata": {},
   "outputs": [],
   "source": [
    "### Réponse "
   ]
  },
  {
   "cell_type": "markdown",
   "id": "c20122c8",
   "metadata": {},
   "source": [
    "Exercice 2 : Ecrire une fonction qui prend en entrée deux entiers a et b et qui renvoie leur somme s'ils sont égaux et leur produits sinon."
   ]
  },
  {
   "cell_type": "code",
   "execution_count": null,
   "id": "d697f722",
   "metadata": {},
   "outputs": [],
   "source": [
    "### Réponse"
   ]
  },
  {
   "cell_type": "markdown",
   "id": "f6519adc",
   "metadata": {},
   "source": [
    "Exercice 3 : Créer un sous-tableau issus du tableau Temperatures, qui ne contient que les villes dans lesquelles la température de Janvier est supérieure à 5 degrés."
   ]
  },
  {
   "cell_type": "code",
   "execution_count": 131,
   "id": "750860c1",
   "metadata": {},
   "outputs": [],
   "source": [
    "### Réponse"
   ]
  },
  {
   "cell_type": "markdown",
   "id": "9791ec89-9212-49da-94b9-0f17570e7884",
   "metadata": {},
   "source": [
    "Exercice 4 : faire une carte, avec les pays coloré en fonction de la valeur de leur population.  "
   ]
  },
  {
   "cell_type": "code",
   "execution_count": null,
   "id": "7307131a-6c19-46fa-b456-81920b56aaa2",
   "metadata": {},
   "outputs": [],
   "source": [
    "### Réponse"
   ]
  }
 ],
 "metadata": {
  "kernelspec": {
   "display_name": "Python 3 (ipykernel)",
   "language": "python",
   "name": "python3"
  },
  "language_info": {
   "codemirror_mode": {
    "name": "ipython",
    "version": 3
   },
   "file_extension": ".py",
   "mimetype": "text/x-python",
   "name": "python",
   "nbconvert_exporter": "python",
   "pygments_lexer": "ipython3",
   "version": "3.10.12"
  }
 },
 "nbformat": 4,
 "nbformat_minor": 5
}
