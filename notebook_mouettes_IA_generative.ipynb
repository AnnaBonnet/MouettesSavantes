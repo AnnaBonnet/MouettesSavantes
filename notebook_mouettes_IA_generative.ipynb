{
 "cells": [
  {
   "cell_type": "markdown",
   "id": "8235614e-ad13-48bc-a206-5611ca6a47d7",
   "metadata": {},
   "source": [
    "# Etude de l'impact environnemental de l'IA générative \n",
    "\n",
    "## Objectifs \n",
    "\n",
    "Dans ce projet on souhaite étudier la dépense en énergie et le cout carbone associé des différents modèles utilisés pour générer du texte, qu'on appelle des Large Language Models (LLM). Les objectifs du projet sont :\n",
    "\n",
    "- comprendre comment fonctionnent les IA générative de ChatGPT ;\n",
    "- comparer les différents modèles et les coûts associés ;\n",
    "- quantifier les impacts de l'IA générative sur l'environnement.\n",
    "\n",
    "## Pour comprendre le fonctionnement d'un LLM\n",
    "\n",
    "On commencera par lire cet article qui explique la génération d'un texte par une IA :\n",
    "https://www.jeunesfrancophonesetlascience.fr/_files/ugd/38f5f0_e37a8559a50b428292d084834cfdd990.pdf\n",
    "## Sources\n",
    "\n",
    "Les données proviennent du projet Ecologits qui s'intéresse à l'impact environnemental de l'IA. Toute la méthodologie est détaillée sur leur site : https://ecologits.ai/latest/\n",
    "\n",
    "Quelques points importants sur la base de données : \n",
    "\n",
    "- pour un type de modèle, on a l'énergie moyenne consommée en Wattheure (Wh) pour générer 1 Token, puis un Tweet, un email, un résumé d'article, une petite conversation et un rapport de 5 pages ;\n",
    "- cette énergie peut ensuite être convertie en coût environnemental selon le pays, car la production d'énergie est très dépendante de la source de production (nucléaire, éolienne etc). Le tableau electricity_mix.csv contient la conversion par pays d'1Wh en gramme de CO2 émis (pwh), en énergie primaire (pe) et en ressources abiotiques (minéraux et métaux, adpe);\n",
    "- pour chaque modèle, on différencie le nombre de paramètres total du modèle du nombre de paramètres actifs. Par exemple si un modèle peut générer du texte, des images et du son, quand on génère seulement du texte, il y aura une partie des paramètres qui seront réellement utilisés, et ce sont ceux qu'on appelle les paramètres actifs. Dans le tableau de données, le nombre de paramètres est en milliards.\n",
    "\n",
    "\n",
    "\n",
    "## Première partie : Comparaison des différents modèles.\n",
    "\n",
    "Dans cette partie on étudiera la dépense énergétique d'une petite conversation avec différents modèles. \n",
    "On mettra en avant les différences entre les LLM (nombre total de paramètres, nombre de paramètres actifs,... ) et la différence de dépense énergétique associée. \n",
    "\n",
    "Commençons par charger la base de données. Quelques pistes pour commencer l'étude : \n",
    "- comparer l'énergie dépensée en fonction du type de texte ;\n",
    "- afficher les dépenses d'énergie en fonction de chaque modèle pour un même type de texte ;\n",
    "- étudier le lien entre nombre de paramètres et l'énergie dépensée."
   ]
  },
  {
   "cell_type": "code",
   "execution_count": 20,
   "id": "0c901d90-383e-47a9-8ec8-9195e7110287",
   "metadata": {},
   "outputs": [
    {
     "data": {
      "text/html": [
       "<div>\n",
       "<style scoped>\n",
       "    .dataframe tbody tr th:only-of-type {\n",
       "        vertical-align: middle;\n",
       "    }\n",
       "\n",
       "    .dataframe tbody tr th {\n",
       "        vertical-align: top;\n",
       "    }\n",
       "\n",
       "    .dataframe thead th {\n",
       "        text-align: right;\n",
       "    }\n",
       "</style>\n",
       "<table border=\"1\" class=\"dataframe\">\n",
       "  <thead>\n",
       "    <tr style=\"text-align: right;\">\n",
       "      <th></th>\n",
       "      <th>Provider</th>\n",
       "      <th>Model</th>\n",
       "      <th>Active parameters</th>\n",
       "      <th>Total parameters</th>\n",
       "      <th>Token</th>\n",
       "      <th>Tweet</th>\n",
       "      <th>Email</th>\n",
       "      <th>Resume</th>\n",
       "      <th>Petite_conv</th>\n",
       "      <th>Cinq_pages</th>\n",
       "    </tr>\n",
       "  </thead>\n",
       "  <tbody>\n",
       "    <tr>\n",
       "      <th>0</th>\n",
       "      <td>OpenAI</td>\n",
       "      <td>gpt 4o</td>\n",
       "      <td>137</td>\n",
       "      <td>440</td>\n",
       "      <td>0.087500</td>\n",
       "      <td>4.37500</td>\n",
       "      <td>14.87500</td>\n",
       "      <td>21.87500</td>\n",
       "      <td>35.00</td>\n",
       "      <td>437.500</td>\n",
       "    </tr>\n",
       "    <tr>\n",
       "      <th>1</th>\n",
       "      <td>OpenAI</td>\n",
       "      <td>Gpt 3.5</td>\n",
       "      <td>45</td>\n",
       "      <td>45</td>\n",
       "      <td>0.008950</td>\n",
       "      <td>0.44750</td>\n",
       "      <td>1.52150</td>\n",
       "      <td>2.23750</td>\n",
       "      <td>3.58</td>\n",
       "      <td>44.750</td>\n",
       "    </tr>\n",
       "    <tr>\n",
       "      <th>2</th>\n",
       "      <td>OpenAI</td>\n",
       "      <td>gpt 4</td>\n",
       "      <td>550</td>\n",
       "      <td>1760</td>\n",
       "      <td>1.117500</td>\n",
       "      <td>55.87500</td>\n",
       "      <td>189.97500</td>\n",
       "      <td>279.37500</td>\n",
       "      <td>447.00</td>\n",
       "      <td>5587.500</td>\n",
       "    </tr>\n",
       "    <tr>\n",
       "      <th>3</th>\n",
       "      <td>OpenAI</td>\n",
       "      <td>gpt 4 turbo</td>\n",
       "      <td>275</td>\n",
       "      <td>880</td>\n",
       "      <td>0.287500</td>\n",
       "      <td>14.37500</td>\n",
       "      <td>48.87500</td>\n",
       "      <td>71.87500</td>\n",
       "      <td>115.00</td>\n",
       "      <td>1437.500</td>\n",
       "    </tr>\n",
       "    <tr>\n",
       "      <th>4</th>\n",
       "      <td>OpenAI</td>\n",
       "      <td>gpt 4o mini</td>\n",
       "      <td>18</td>\n",
       "      <td>18</td>\n",
       "      <td>0.005175</td>\n",
       "      <td>0.25875</td>\n",
       "      <td>0.87975</td>\n",
       "      <td>1.29375</td>\n",
       "      <td>2.07</td>\n",
       "      <td>25.875</td>\n",
       "    </tr>\n",
       "  </tbody>\n",
       "</table>\n",
       "</div>"
      ],
      "text/plain": [
       "  Provider        Model  Active parameters  Total parameters     Token  \\\n",
       "0   OpenAI       gpt 4o                137               440  0.087500   \n",
       "1   OpenAI      Gpt 3.5                 45                45  0.008950   \n",
       "2   OpenAI       gpt 4                 550              1760  1.117500   \n",
       "3   OpenAI  gpt 4 turbo                275               880  0.287500   \n",
       "4   OpenAI  gpt 4o mini                 18                18  0.005175   \n",
       "\n",
       "      Tweet      Email     Resume  Petite_conv  Cinq_pages  \n",
       "0   4.37500   14.87500   21.87500        35.00     437.500  \n",
       "1   0.44750    1.52150    2.23750         3.58      44.750  \n",
       "2  55.87500  189.97500  279.37500       447.00    5587.500  \n",
       "3  14.37500   48.87500   71.87500       115.00    1437.500  \n",
       "4   0.25875    0.87975    1.29375         2.07      25.875  "
      ]
     },
     "execution_count": 20,
     "metadata": {},
     "output_type": "execute_result"
    }
   ],
   "source": [
    "import numpy as np\n",
    "import pandas as pd\n",
    "import matplotlib.pyplot as plt\n",
    "\n",
    "cons_ia = pd.read_csv('gen_AI_energy.csv', sep=',')\n",
    "cons_ia.head()"
   ]
  },
  {
   "cell_type": "markdown",
   "id": "75d7e9fb-8ca5-41a3-98a0-674a63027d06",
   "metadata": {},
   "source": []
  },
  {
   "cell_type": "code",
   "execution_count": 19,
   "id": "19252191",
   "metadata": {},
   "outputs": [
    {
     "data": {
      "text/plain": [
       "<seaborn.axisgrid.FacetGrid at 0x7b7392fba260>"
      ]
     },
     "execution_count": 19,
     "metadata": {},
     "output_type": "execute_result"
    },
    {
     "data": {
      "image/png": "[encoded data removed]",
      "text/plain": [
       "<Figure size 360x360 with 1 Axes>"
      ]
     },
     "metadata": {
      "needs_background": "light"
     },
     "output_type": "display_data"
    }
   ],
   "source": [
    "import seaborn as sns\n",
    "cons_ia[[\"Token\"]].mean()\n",
    "sns.relplot(y='Tweet', x='Petite_conv',  data=cons_ia)"
   ]
  },
  {
   "cell_type": "code",
   "execution_count": null,
   "id": "0e1d465f",
   "metadata": {},
   "outputs": [],
   "source": [
    "## Etude du coût carbone et comparaison entre les pays\n",
    "\n",
    "On importe maintenant une nouvelle base de données : \\t|electricity_mixes.csv|. Dans cette base de données, on a notamment le coût carbone  d'1Wh en fonction du pays. \n",
    "\n",
    "Objectifs de la section : \n",
    "    \n",
    "    - Faire une fonction qui prend en entrée le nom du modèle, le pays et le type de conversation, puis qui renvoie le coût en carbone ;\n",
    "    \n",
    "    - Etudier le cout carbone d'une petite conversation en fonction du pays et le représenter sur une carte du monde."
   ]
  },
  {
   "cell_type": "code",
   "execution_count": 13,
   "id": "caef7406",
   "metadata": {},
   "outputs": [
    {
     "data": {
      "text/plain": [
       "<seaborn.axisgrid.FacetGrid at 0x7b7393416d10>"
      ]
     },
     "execution_count": 13,
     "metadata": {},
     "output_type": "execute_result"
    },
    {
     "data": {
      "image/png": "[encoded data removed]",
      "text/plain": [
       "<Figure size 432.25x360 with 1 Axes>"
      ]
     },
     "metadata": {
      "needs_background": "light"
     },
     "output_type": "display_data"
    }
   ],
   "source": [
    "sns.relplot(y='Token', x='Petite_conv', hue='Provider',  data=cons_ia)\n"
   ]
  },
  {
   "cell_type": "code",
   "execution_count": 21,
   "id": "cbac6a00",
   "metadata": {},
   "outputs": [
    {
     "data": {
      "text/html": [
       "<div>\n",
       "<style scoped>\n",
       "    .dataframe tbody tr th:only-of-type {\n",
       "        vertical-align: middle;\n",
       "    }\n",
       "\n",
       "    .dataframe tbody tr th {\n",
       "        vertical-align: top;\n",
       "    }\n",
       "\n",
       "    .dataframe thead th {\n",
       "        text-align: right;\n",
       "    }\n",
       "</style>\n",
       "<table border=\"1\" class=\"dataframe\">\n",
       "  <thead>\n",
       "    <tr style=\"text-align: right;\">\n",
       "      <th></th>\n",
       "      <th>name</th>\n",
       "      <th>adpe</th>\n",
       "      <th>pe</th>\n",
       "      <th>gwp</th>\n",
       "    </tr>\n",
       "  </thead>\n",
       "  <tbody>\n",
       "    <tr>\n",
       "      <th>0</th>\n",
       "      <td>WOR</td>\n",
       "      <td>7.377080e-08</td>\n",
       "      <td>9.988000</td>\n",
       "      <td>0.590478</td>\n",
       "    </tr>\n",
       "    <tr>\n",
       "      <th>1</th>\n",
       "      <td>EEE</td>\n",
       "      <td>6.423170e-08</td>\n",
       "      <td>12.873000</td>\n",
       "      <td>0.509427</td>\n",
       "    </tr>\n",
       "    <tr>\n",
       "      <th>2</th>\n",
       "      <td>ZWE</td>\n",
       "      <td>1.095020e-07</td>\n",
       "      <td>7.754880</td>\n",
       "      <td>0.823938</td>\n",
       "    </tr>\n",
       "    <tr>\n",
       "      <th>3</th>\n",
       "      <td>ZMB</td>\n",
       "      <td>1.621930e-07</td>\n",
       "      <td>0.089918</td>\n",
       "      <td>0.014026</td>\n",
       "    </tr>\n",
       "    <tr>\n",
       "      <th>4</th>\n",
       "      <td>ZAF</td>\n",
       "      <td>8.624450e-08</td>\n",
       "      <td>11.357000</td>\n",
       "      <td>1.149150</td>\n",
       "    </tr>\n",
       "  </tbody>\n",
       "</table>\n",
       "</div>"
      ],
      "text/plain": [
       "  name          adpe         pe       gwp\n",
       "0  WOR  7.377080e-08   9.988000  0.590478\n",
       "1  EEE  6.423170e-08  12.873000  0.509427\n",
       "2  ZWE  1.095020e-07   7.754880  0.823938\n",
       "3  ZMB  1.621930e-07   0.089918  0.014026\n",
       "4  ZAF  8.624450e-08  11.357000  1.149150"
      ]
     },
     "execution_count": 21,
     "metadata": {},
     "output_type": "execute_result"
    }
   ],
   "source": [
    "cout_pays = pd.read_csv('electricity_mixes.csv', sep=',')\n",
    "cout_pays.head()"
   ]
  },
  {
   "cell_type": "code",
   "execution_count": 22,
   "id": "5d6e99b0",
   "metadata": {
    "scrolled": true
   },
   "outputs": [
    {
     "data": {
      "text/plain": [
       "23.3003"
      ]
     },
     "execution_count": 22,
     "metadata": {},
     "output_type": "execute_result"
    }
   ],
   "source": [
    "from math import pi\n",
    "# number of variable\n",
    "cat=['abiotic', 'primary', 'co2']\n",
    "\n",
    "\n",
    "## on selectionne un sous echantillon de pays : \n",
    "choix_pays = [ 'CHN','FRA',\"DEU\",\"CHE\",\"USA\"]\n",
    "mx= cout_pays[[\"adpe\",\"pe\",\"gwp\"]].max().max()\n",
    "mx"
   ]
  },
  {
   "cell_type": "code",
   "execution_count": 25,
   "id": "0f787c5f",
   "metadata": {},
   "outputs": [
    {
     "data": {
      "text/html": [
       "<div>\n",
       "<style scoped>\n",
       "    .dataframe tbody tr th:only-of-type {\n",
       "        vertical-align: middle;\n",
       "    }\n",
       "\n",
       "    .dataframe tbody tr th {\n",
       "        vertical-align: top;\n",
       "    }\n",
       "\n",
       "    .dataframe thead th {\n",
       "        text-align: right;\n",
       "    }\n",
       "</style>\n",
       "<table border=\"1\" class=\"dataframe\">\n",
       "  <thead>\n",
       "    <tr style=\"text-align: right;\">\n",
       "      <th></th>\n",
       "      <th>name</th>\n",
       "      <th>adpe</th>\n",
       "      <th>pe</th>\n",
       "      <th>gwp</th>\n",
       "      <th>cout_co2</th>\n",
       "      <th>cout_abiotic</th>\n",
       "      <th>cout_ep</th>\n",
       "      <th>prop_co2</th>\n",
       "      <th>prop_abiotic</th>\n",
       "      <th>prop_ep</th>\n",
       "    </tr>\n",
       "  </thead>\n",
       "  <tbody>\n",
       "    <tr>\n",
       "      <th>0</th>\n",
       "      <td>WOR</td>\n",
       "      <td>7.377080e-08</td>\n",
       "      <td>9.988000</td>\n",
       "      <td>0.590478</td>\n",
       "      <td>0.051667</td>\n",
       "      <td>6.454945e-09</td>\n",
       "      <td>0.873950</td>\n",
       "      <td>0.284175</td>\n",
       "      <td>0.277778</td>\n",
       "      <td>0.428664</td>\n",
       "    </tr>\n",
       "    <tr>\n",
       "      <th>1</th>\n",
       "      <td>EEE</td>\n",
       "      <td>6.423170e-08</td>\n",
       "      <td>12.873000</td>\n",
       "      <td>0.509427</td>\n",
       "      <td>0.044575</td>\n",
       "      <td>5.620274e-09</td>\n",
       "      <td>1.126387</td>\n",
       "      <td>0.245168</td>\n",
       "      <td>0.241859</td>\n",
       "      <td>0.552482</td>\n",
       "    </tr>\n",
       "    <tr>\n",
       "      <th>2</th>\n",
       "      <td>ZWE</td>\n",
       "      <td>1.095020e-07</td>\n",
       "      <td>7.754880</td>\n",
       "      <td>0.823938</td>\n",
       "      <td>0.072095</td>\n",
       "      <td>9.581425e-09</td>\n",
       "      <td>0.678552</td>\n",
       "      <td>0.396530</td>\n",
       "      <td>0.412320</td>\n",
       "      <td>0.332823</td>\n",
       "    </tr>\n",
       "    <tr>\n",
       "      <th>3</th>\n",
       "      <td>ZMB</td>\n",
       "      <td>1.621930e-07</td>\n",
       "      <td>0.089918</td>\n",
       "      <td>0.014026</td>\n",
       "      <td>0.001227</td>\n",
       "      <td>1.419189e-08</td>\n",
       "      <td>0.007868</td>\n",
       "      <td>0.006750</td>\n",
       "      <td>0.610724</td>\n",
       "      <td>0.003859</td>\n",
       "    </tr>\n",
       "    <tr>\n",
       "      <th>4</th>\n",
       "      <td>ZAF</td>\n",
       "      <td>8.624450e-08</td>\n",
       "      <td>11.357000</td>\n",
       "      <td>1.149150</td>\n",
       "      <td>0.100551</td>\n",
       "      <td>7.546394e-09</td>\n",
       "      <td>0.993737</td>\n",
       "      <td>0.553042</td>\n",
       "      <td>0.324746</td>\n",
       "      <td>0.487419</td>\n",
       "    </tr>\n",
       "  </tbody>\n",
       "</table>\n",
       "</div>"
      ],
      "text/plain": [
       "  name          adpe         pe       gwp  cout_co2  cout_abiotic   cout_ep  \\\n",
       "0  WOR  7.377080e-08   9.988000  0.590478  0.051667  6.454945e-09  0.873950   \n",
       "1  EEE  6.423170e-08  12.873000  0.509427  0.044575  5.620274e-09  1.126387   \n",
       "2  ZWE  1.095020e-07   7.754880  0.823938  0.072095  9.581425e-09  0.678552   \n",
       "3  ZMB  1.621930e-07   0.089918  0.014026  0.001227  1.419189e-08  0.007868   \n",
       "4  ZAF  8.624450e-08  11.357000  1.149150  0.100551  7.546394e-09  0.993737   \n",
       "\n",
       "   prop_co2  prop_abiotic   prop_ep  \n",
       "0  0.284175      0.277778  0.428664  \n",
       "1  0.245168      0.241859  0.552482  \n",
       "2  0.396530      0.412320  0.332823  \n",
       "3  0.006750      0.610724  0.003859  \n",
       "4  0.553042      0.324746  0.487419  "
      ]
     },
     "execution_count": 25,
     "metadata": {},
     "output_type": "execute_result"
    }
   ],
   "source": [
    "cout_chatgpt = cons_ia.loc[cons_ia[\"Model\"]==\"gpt 4o\"][\"Token\"][0]\n",
    "cout_chatgpt\n",
    "cout_pays[\"cout_co2\"] = cout_pays[\"gwp\"]*cout_chatgpt\n",
    "cout_pays[\"cout_abiotic\"] = cout_pays[\"adpe\"]*cout_chatgpt\n",
    "cout_pays[\"cout_ep\"] = cout_pays[\"pe\"]*cout_chatgpt\n",
    "cout_pays[\"prop_co2\"] = cout_pays[\"cout_co2\"]/cout_pays[\"cout_co2\"].max()\n",
    "cout_pays[\"prop_abiotic\"] = cout_pays[\"cout_abiotic\"]/cout_pays[\"cout_abiotic\"].max()\n",
    "cout_pays[\"prop_ep\"] = cout_pays[\"cout_ep\"]/cout_pays[\"cout_ep\"].max()\n",
    "cout_pays.head()\n"
   ]
  },
  {
   "cell_type": "code",
   "execution_count": 26,
   "id": "3bfaa102",
   "metadata": {},
   "outputs": [],
   "source": [
    "\n",
    "def spyder(choix_pays, categories = cat, scale =\"full\"): \n",
    "    N = len(categories)\n",
    "    pays_sel = cout_pays.loc[cout_pays['name'].isin(choix_pays)].reset_index()[[\"name\",\"prop_abiotic\",\"prop_ep\",\"prop_co2\"]]\n",
    "\n",
    "    # What will be the angle of each axis in the plot? (we divide the plot / number of variable)\n",
    "    angles = [n / float(N) * 2 * pi for n in range(N)]\n",
    "    angles += angles[:1]\n",
    " \n",
    "    # Initialise the spider plot\n",
    "    ax = plt.subplot(111, polar=True)\n",
    " \n",
    "    # If you want the first axis to be on top:\n",
    "    ax.set_theta_offset(pi / 2)\n",
    "    ax.set_theta_direction(-1)\n",
    " \n",
    "    # Draw one axe per variable + add labels\n",
    "    plt.xticks(angles[:-1], categories)\n",
    " \n",
    "    # Draw ylabels\n",
    "    ax.set_rlabel_position(0)\n",
    "    if scale==\"full\":  # Even numbers\n",
    "        plt.yticks([0,0.50,1], [\"0\",\"0.5\",\"1\"], color=\"grey\", size=7)\n",
    "        plt.ylim(0,1)\n",
    "    else:\n",
    "        mx= pays_sel[[\"prop_abiotic\",\"prop_ep\",\"prop_co2\"]].max().max()\n",
    "        print(mx)\n",
    "        plt.yticks([0,mx/2,mx], [\"0\",round(mx/2,2),round(mx,2)], color=\"grey\", size=7)\n",
    "        plt.ylim(0,mx)\n",
    "\n",
    "    # ------- PART 2: Add plots\n",
    "    pays = pays_sel[\"name\"]\n",
    "    # Plot each individual = each line of the data\n",
    "    # I don't make a loop, because plotting more than 3 groups makes the chart unreadable\n",
    "    for i in range(0,len(choix_pays)): \n",
    "        values=pays_sel.loc[i].drop(['name']).values.flatten().tolist()\n",
    "        values += values[:1]\n",
    "        ax.plot(angles, values, linewidth=1, linestyle='solid', label=pays[i])\n",
    "        ax.fill(angles, values, 'b', alpha=0.1)\n",
    " \n",
    "    \n",
    "    # Add legend\n",
    "    plt.legend(loc='upper right', bbox_to_anchor=(0.1, 0.1))\n",
    "\n",
    "    # Show the graph\n",
    "    plt.show()\n"
   ]
  },
  {
   "cell_type": "code",
   "execution_count": 27,
   "id": "ff9599ea",
   "metadata": {},
   "outputs": [
    {
     "name": "stdout",
     "output_type": "stream",
     "text": [
      "0.49895806763657014\n"
     ]
    },
    {
     "data": {
      "image/png": "[encoded data removed]",
      "text/plain": [
       "<Figure size 432x288 with 1 Axes>"
      ]
     },
     "metadata": {},
     "output_type": "display_data"
    }
   ],
   "source": [
    "spyder(choix_pays, scale =\"proportion\")"
   ]
  }
 ],
 "metadata": {
  "kernelspec": {
   "display_name": "Python 3 (ipykernel)",
   "language": "python",
   "name": "python3"
  },
  "language_info": {
   "codemirror_mode": {
    "name": "ipython",
    "version": 3
   },
   "file_extension": ".py",
   "mimetype": "text/x-python",
   "name": "python",
   "nbconvert_exporter": "python",
   "pygments_lexer": "ipython3",
   "version": "3.10.12"
  }
 },
 "nbformat": 4,
 "nbformat_minor": 5
}
