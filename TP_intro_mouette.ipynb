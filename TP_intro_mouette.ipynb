{
 "cells": [
  {
   "cell_type": "markdown",
   "id": "b1eb5179",
   "metadata": {},
   "source": [
    "## Installation de librairies Python"
   ]
  },
  {
   "cell_type": "code",
   "execution_count": 82,
   "id": "7ba3b154",
   "metadata": {},
   "outputs": [],
   "source": [
    "import pandas as pd ## librairie pour manipuler les jeux de données\n",
    "import numpy as np ## librairie avec des fonctions basiques implémentées\n"
   ]
  },
  {
   "cell_type": "markdown",
   "id": "df6e538d",
   "metadata": {},
   "source": [
    "## Commencer à coder en Python"
   ]
  },
  {
   "cell_type": "markdown",
   "id": "07a76e0e",
   "metadata": {},
   "source": [
    "On peut faire toutes les opérations basiques : addition, multiplication..."
   ]
  },
  {
   "cell_type": "code",
   "execution_count": 83,
   "id": "a482c604",
   "metadata": {},
   "outputs": [
    {
     "data": {
      "text/plain": [
       "3.5"
      ]
     },
     "execution_count": 83,
     "metadata": {},
     "output_type": "execute_result"
    }
   ],
   "source": [
    "a=1.5\n",
    "b=2\n",
    "a+b"
   ]
  },
  {
   "cell_type": "code",
   "execution_count": 84,
   "id": "e6c75c95",
   "metadata": {},
   "outputs": [
    {
     "data": {
      "text/plain": [
       "3.0"
      ]
     },
     "execution_count": 84,
     "metadata": {},
     "output_type": "execute_result"
    }
   ],
   "source": [
    "a*b"
   ]
  },
  {
   "cell_type": "markdown",
   "id": "9623a563",
   "metadata": {},
   "source": [
    "On peut définir des objets qui sont des nombres, comme a et b ci-dessus, mais également des chaînes de caractères, qu'on va alors mettre entre guillemets :"
   ]
  },
  {
   "cell_type": "code",
   "execution_count": 85,
   "id": "bb998462",
   "metadata": {},
   "outputs": [
    {
     "data": {
      "text/plain": [
       "'chien'"
      ]
     },
     "execution_count": 85,
     "metadata": {},
     "output_type": "execute_result"
    }
   ],
   "source": [
    "c=\"chien\"\n",
    "c"
   ]
  },
  {
   "cell_type": "markdown",
   "id": "0a692cf8",
   "metadata": {},
   "source": [
    "### Tester une condition "
   ]
  },
  {
   "cell_type": "code",
   "execution_count": 86,
   "id": "dfbafd51",
   "metadata": {},
   "outputs": [
    {
     "data": {
      "text/plain": [
       "True"
      ]
     },
     "execution_count": 86,
     "metadata": {},
     "output_type": "execute_result"
    }
   ],
   "source": [
    "a<b"
   ]
  },
  {
   "cell_type": "code",
   "execution_count": 87,
   "id": "ea7682a3",
   "metadata": {},
   "outputs": [
    {
     "data": {
      "text/plain": [
       "False"
      ]
     },
     "execution_count": 87,
     "metadata": {},
     "output_type": "execute_result"
    }
   ],
   "source": [
    "a==1"
   ]
  },
  {
   "cell_type": "markdown",
   "id": "4a433774",
   "metadata": {},
   "source": [
    "On remarque qu'on a utilisé \"==\" et non \"=\". Pourquoi ? Parce que si j'écris a=b, ça veut dire que je définis la variable a qui est égale à 1. Essayons :"
   ]
  },
  {
   "cell_type": "code",
   "execution_count": 88,
   "id": "031267ae",
   "metadata": {},
   "outputs": [
    {
     "data": {
      "text/plain": [
       "1"
      ]
     },
     "execution_count": 88,
     "metadata": {},
     "output_type": "execute_result"
    }
   ],
   "source": [
    "a=1\n",
    "a"
   ]
  },
  {
   "cell_type": "code",
   "execution_count": 89,
   "id": "49ca759c",
   "metadata": {},
   "outputs": [],
   "source": [
    "vec=[1,2,3]\n"
   ]
  },
  {
   "cell_type": "markdown",
   "id": "b424ec78",
   "metadata": {},
   "source": [
    "Beaucoup de fonctions sont déjà implémentées dans Python : le minimum, le maximum, la moyenne, la somme, la longueur..."
   ]
  },
  {
   "cell_type": "code",
   "execution_count": 90,
   "id": "e462e777",
   "metadata": {},
   "outputs": [
    {
     "data": {
      "text/plain": [
       "1"
      ]
     },
     "execution_count": 90,
     "metadata": {},
     "output_type": "execute_result"
    }
   ],
   "source": [
    "min(vec)"
   ]
  },
  {
   "cell_type": "code",
   "execution_count": 91,
   "id": "b7505d66",
   "metadata": {},
   "outputs": [
    {
     "data": {
      "text/plain": [
       "3"
      ]
     },
     "execution_count": 91,
     "metadata": {},
     "output_type": "execute_result"
    }
   ],
   "source": [
    "max(vec)"
   ]
  },
  {
   "cell_type": "code",
   "execution_count": 92,
   "id": "905169f9",
   "metadata": {},
   "outputs": [
    {
     "data": {
      "text/plain": [
       "6"
      ]
     },
     "execution_count": 92,
     "metadata": {},
     "output_type": "execute_result"
    }
   ],
   "source": [
    "\n",
    "\n",
    "sum(vec)"
   ]
  },
  {
   "cell_type": "code",
   "execution_count": 93,
   "id": "3cee0cae",
   "metadata": {},
   "outputs": [
    {
     "data": {
      "text/plain": [
       "3"
      ]
     },
     "execution_count": 93,
     "metadata": {},
     "output_type": "execute_result"
    }
   ],
   "source": [
    "len(vec)"
   ]
  },
  {
   "cell_type": "markdown",
   "id": "7f0d10f2",
   "metadata": {},
   "source": [
    "La fonction \"in\" permet de tester si un élément appartient à un ensemble :"
   ]
  },
  {
   "cell_type": "code",
   "execution_count": 94,
   "id": "dc004221",
   "metadata": {},
   "outputs": [
    {
     "data": {
      "text/plain": [
       "True"
      ]
     },
     "execution_count": 94,
     "metadata": {},
     "output_type": "execute_result"
    }
   ],
   "source": [
    "2 in vec"
   ]
  },
  {
   "cell_type": "code",
   "execution_count": 95,
   "id": "ecb138a3",
   "metadata": {},
   "outputs": [
    {
     "data": {
      "text/plain": [
       "False"
      ]
     },
     "execution_count": 95,
     "metadata": {},
     "output_type": "execute_result"
    }
   ],
   "source": [
    "4 in vec"
   ]
  },
  {
   "cell_type": "markdown",
   "id": "4199e0e1",
   "metadata": {},
   "source": [
    "D'autres fonctions sont dans la librairie numpy, comme la moyenne, il faut alors dire à Python d'aller chercher cette fonction dans numpy :"
   ]
  },
  {
   "cell_type": "code",
   "execution_count": 96,
   "id": "1194819d",
   "metadata": {},
   "outputs": [
    {
     "data": {
      "text/plain": [
       "2.0"
      ]
     },
     "execution_count": 96,
     "metadata": {},
     "output_type": "execute_result"
    }
   ],
   "source": [
    "np.mean(vec)"
   ]
  },
  {
   "cell_type": "markdown",
   "id": "4b0fcf2c",
   "metadata": {},
   "source": [
    "## Importation d'un jeu de données et visualisation"
   ]
  },
  {
   "cell_type": "markdown",
   "id": "d54e6b2e",
   "metadata": {},
   "source": [
    "On commence par dire à Python d'importer jeu de données temperat_Europe.csv, qui doit se trouver sur notre ordinateur, dans le même dossier que le notebook (ou alors, on doit indiquer à Python où aller chercher le jeu de données). L'option \"sep\" permet d'indiquer comment sont séparées les données (selon les fichiers, ça peut être des virgules, des points-virgules, des espaces...)."
   ]
  },
  {
   "cell_type": "code",
   "execution_count": 97,
   "id": "90047206",
   "metadata": {},
   "outputs": [],
   "source": [
    "\n",
    "\n",
    "temperatures=pd.read_csv(\"temperat_Europe.csv\",sep=\"\\t\")"
   ]
  },
  {
   "cell_type": "markdown",
   "id": "b5f48d82",
   "metadata": {},
   "source": [
    "On peut avoir un aperçu du jeu de données avec la fonction head :"
   ]
  },
  {
   "cell_type": "code",
   "execution_count": 98,
   "id": "ef7e15b4",
   "metadata": {},
   "outputs": [
    {
     "data": {
      "text/plain": [
       "<bound method NDFrame.head of          Unnamed: 0  Janvier  Fevrier  Mars  Avril   Mai  Juin  Juillet  Aout  \\\n",
       "0         Amsterdam      2.9      2.5   5.7    8.2  12.5  14.8     17.1  17.1   \n",
       "1           Athenes      9.1      9.7  11.7   15.4  20.1  24.5     27.4  27.2   \n",
       "2            Berlin     -0.2      0.1   4.4    8.2  13.8  16.0     18.3  18.0   \n",
       "3         Bruxelles      3.3      3.3   6.7    8.9  12.8  15.6     17.8  17.8   \n",
       "4          Budapest     -1.1      0.8   5.5   11.6  17.0  20.2     22.0  21.3   \n",
       "5        Copenhague     -0.4     -0.4   1.3    5.8  11.1  15.4     17.1  16.6   \n",
       "6            Dublin      4.8      5.0   5.9    7.8  10.4  13.3     15.0  14.6   \n",
       "7          Helsinki     -5.8     -6.2  -2.7    3.1  10.2  14.0     17.2  14.9   \n",
       "8              Kiev     -5.9     -5.0  -0.3    7.4  14.3  17.8     19.4  18.5   \n",
       "9          Cracovie     -3.7     -2.0   1.9    7.9  13.2  16.9     18.4  17.6   \n",
       "10         Lisbonne     10.5     11.3  12.8   14.5  16.7  19.4     21.5  21.9   \n",
       "11          Londres      3.4      4.2   5.5    8.3  11.9  15.1     16.9  16.5   \n",
       "12           Madrid      5.0      6.6   9.4   12.2  16.0  20.8     24.7  24.3   \n",
       "13            Minsk     -6.9     -6.2  -1.9    5.4  12.4  15.9     17.4  16.3   \n",
       "14           Moscou     -9.3     -7.6  -2.0    6.0  13.0  16.6     18.3  16.7   \n",
       "15             Oslo     -4.3     -3.8  -0.6    4.4  10.3  14.9     16.9  15.4   \n",
       "16            Paris      3.7      3.7   7.3    9.7  13.7  16.5     19.0  18.7   \n",
       "17           Prague     -1.3      0.2   3.6    8.8  14.3  17.6     19.3  18.7   \n",
       "18        Reykjavik     -0.3      0.1   0.8    2.9   6.5   9.3     11.1  10.6   \n",
       "19             Rome      7.1      8.2  10.5   13.7  17.8  21.7     24.4  24.1   \n",
       "20         Sarajevo     -1.4      0.8   4.9    9.3  13.8  17.0     18.9  18.7   \n",
       "21            Sofia     -1.7      0.2   4.3    9.7  14.3  17.7     20.0  19.5   \n",
       "22        Stockholm     -3.5     -3.5  -1.3    3.5   9.2  14.6     17.2  16.0   \n",
       "23           Anvers      3.1      2.9   6.2    8.9  12.9  15.5     17.9  17.6   \n",
       "24        Barcelone      9.1     10.3  11.8   14.1  17.4  21.2     24.2  24.1   \n",
       "25         Bordeaux      5.6      6.7   9.0   11.9  15.0  18.3     20.4  20.0   \n",
       "26        Edimbourg      2.9      3.6   4.7    7.1   9.9  13.0     14.7  14.3   \n",
       "27        Francfort      0.2      1.8   5.4    9.7  14.3  17.5     19.0  18.3   \n",
       "28           Geneve      0.1      1.9   5.1    9.4  13.8  17.3     19.4  18.5   \n",
       "29            Genes      8.7      8.7  11.4   13.8  17.5  21.0     24.5  24.6   \n",
       "30            Milan      1.1      3.6   8.0   12.6  17.3  21.3     23.8  22.8   \n",
       "31          Palerme     10.5     11.5  13.3   16.9  20.9  23.8     24.5  22.3   \n",
       "32          Seville     10.7     11.8  14.1   16.1  19.7  23.4     26.7  26.7   \n",
       "33  St. Petersbourg     -8.2     -7.9  -3.7    3.2  10.0  15.4     18.4  16.9   \n",
       "34           Zurich     -0.7      0.7   4.3    8.5  12.9  16.2     18.0  17.2   \n",
       "\n",
       "    Septembre  Octobre  Novembre  Decembre  Moyenne  Amplitude  Latitude  \\\n",
       "0        14.5     11.4       7.0       4.4      9.9       14.6      52.2   \n",
       "1        23.8     19.2      14.6      11.0     17.8       18.3      37.6   \n",
       "2        14.4     10.0       4.2       1.2      9.1       18.5      52.3   \n",
       "3        15.0     11.1       6.7       4.4     10.3       14.4      50.5   \n",
       "4        16.9     11.3       5.1       0.7     10.9       23.1      47.3   \n",
       "5        13.3      8.8       4.1       1.3      7.8       17.5      55.4   \n",
       "6        12.7      9.7       6.7       5.4      9.3       10.2      53.2   \n",
       "7         9.7      5.2       0.1      -2.3      4.8       23.4      60.1   \n",
       "8        13.7      7.5       1.2      -3.6      7.1       25.3      50.3   \n",
       "9        13.7      8.6       2.6      -1.7      7.7       22.1      50.0   \n",
       "10       20.4     17.4      13.7      11.1     15.9       11.4      38.4   \n",
       "11       14.0     10.2       6.3       4.4      9.7       13.5      51.4   \n",
       "12       19.8     13.9       8.7       5.4     13.9       19.7      40.2   \n",
       "13       11.6      5.8       0.1      -4.2      5.5       24.3      53.5   \n",
       "14       11.2      5.1      -1.1      -6.0      5.1       27.6      55.5   \n",
       "15       11.1      5.7       0.5      -2.9      5.6       21.2      59.5   \n",
       "16       16.1     12.5       7.3       5.2     11.2       15.3      48.5   \n",
       "17       14.9      9.4       3.8       0.3      9.2       20.6      50.0   \n",
       "18        7.9      4.5       1.7       0.2      4.6       11.4      64.1   \n",
       "19       20.9     16.5      11.7       8.3     15.4       17.3      41.5   \n",
       "20       15.2     10.5       5.1       0.8      9.4       20.3      43.5   \n",
       "21       15.8     10.7       5.0       0.6      9.6       21.7      42.4   \n",
       "22       11.7      6.5       1.7      -1.6      5.8       20.7      59.2   \n",
       "23       14.7     11.5       6.8       4.7     10.3       15.0      51.1   \n",
       "24       21.7     17.5      13.1      10.0     16.2       15.1      41.2   \n",
       "25       17.6     13.5       8.5       6.1     12.7       14.8      44.5   \n",
       "26       12.1      8.7       5.3       3.7      8.3       11.8      55.0   \n",
       "27       14.8      9.8       4.9       1.7      9.8       18.8      50.1   \n",
       "28       15.0      9.8       4.9       1.4      9.7       19.3      46.1   \n",
       "29       21.8     17.8      12.2      10.0     16.1       15.9      44.3   \n",
       "30       18.9     13.1       6.9       2.6     12.6       22.7      45.3   \n",
       "31       22.3     18.4      14.9      12.0     16.6       14.0      38.1   \n",
       "32       24.3     19.4      14.5      11.2     18.2       16.0      37.2   \n",
       "33       11.5      5.2      -0.4      -5.3      4.5       26.6      59.6   \n",
       "34       14.1      8.9       3.9       0.3      8.7       18.7      47.2   \n",
       "\n",
       "    Longitude Region  \n",
       "0         4.5  Ouest  \n",
       "1        23.5    Sud  \n",
       "2        13.2  Ouest  \n",
       "3         4.2  Ouest  \n",
       "4        19.0    Est  \n",
       "5        12.3   Nord  \n",
       "6        -6.1   Nord  \n",
       "7        25.0   Nord  \n",
       "8        30.3    Est  \n",
       "9        19.6    Est  \n",
       "10       -9.1    Sud  \n",
       "11        0.0   Nord  \n",
       "12       -3.4    Sud  \n",
       "13       27.3    Est  \n",
       "14       37.0    Est  \n",
       "15       10.5   Nord  \n",
       "16        2.2  Ouest  \n",
       "17       14.2    Est  \n",
       "18      -21.6   Nord  \n",
       "19       12.3    Sud  \n",
       "20       18.3    Sud  \n",
       "21       23.2    Est  \n",
       "22       18.0   Nord  \n",
       "23        4.2  Ouest  \n",
       "24        2.2    Sud  \n",
       "25       -0.3  Ouest  \n",
       "26        3.0   Nord  \n",
       "27        8.4  Ouest  \n",
       "28        6.1  Ouest  \n",
       "29        9.4    Sud  \n",
       "30        9.2    Sud  \n",
       "31       13.1    Sud  \n",
       "32       -5.6    Sud  \n",
       "33       30.2    Est  \n",
       "34        8.3  Ouest  >"
      ]
     },
     "execution_count": 98,
     "metadata": {},
     "output_type": "execute_result"
    }
   ],
   "source": [
    "temperatures.head"
   ]
  },
  {
   "cell_type": "markdown",
   "id": "e2007109",
   "metadata": {},
   "source": [
    "On peut sélectionner et afficher une sous-partie du jeu de données, par exemple uniquement la colonne \"Janvier\" ou bien les colonnes \"Janvier\" et \"Février\""
   ]
  },
  {
   "cell_type": "code",
   "execution_count": 99,
   "id": "611538c6",
   "metadata": {},
   "outputs": [
    {
     "data": {
      "text/html": [
       "<div>\n",
       "<style scoped>\n",
       "    .dataframe tbody tr th:only-of-type {\n",
       "        vertical-align: middle;\n",
       "    }\n",
       "\n",
       "    .dataframe tbody tr th {\n",
       "        vertical-align: top;\n",
       "    }\n",
       "\n",
       "    .dataframe thead th {\n",
       "        text-align: right;\n",
       "    }\n",
       "</style>\n",
       "<table border=\"1\" class=\"dataframe\">\n",
       "  <thead>\n",
       "    <tr style=\"text-align: right;\">\n",
       "      <th></th>\n",
       "      <th>Janvier</th>\n",
       "    </tr>\n",
       "  </thead>\n",
       "  <tbody>\n",
       "    <tr>\n",
       "      <th>0</th>\n",
       "      <td>2.9</td>\n",
       "    </tr>\n",
       "    <tr>\n",
       "      <th>1</th>\n",
       "      <td>9.1</td>\n",
       "    </tr>\n",
       "    <tr>\n",
       "      <th>2</th>\n",
       "      <td>-0.2</td>\n",
       "    </tr>\n",
       "    <tr>\n",
       "      <th>3</th>\n",
       "      <td>3.3</td>\n",
       "    </tr>\n",
       "    <tr>\n",
       "      <th>4</th>\n",
       "      <td>-1.1</td>\n",
       "    </tr>\n",
       "    <tr>\n",
       "      <th>5</th>\n",
       "      <td>-0.4</td>\n",
       "    </tr>\n",
       "    <tr>\n",
       "      <th>6</th>\n",
       "      <td>4.8</td>\n",
       "    </tr>\n",
       "    <tr>\n",
       "      <th>7</th>\n",
       "      <td>-5.8</td>\n",
       "    </tr>\n",
       "    <tr>\n",
       "      <th>8</th>\n",
       "      <td>-5.9</td>\n",
       "    </tr>\n",
       "    <tr>\n",
       "      <th>9</th>\n",
       "      <td>-3.7</td>\n",
       "    </tr>\n",
       "    <tr>\n",
       "      <th>10</th>\n",
       "      <td>10.5</td>\n",
       "    </tr>\n",
       "    <tr>\n",
       "      <th>11</th>\n",
       "      <td>3.4</td>\n",
       "    </tr>\n",
       "    <tr>\n",
       "      <th>12</th>\n",
       "      <td>5.0</td>\n",
       "    </tr>\n",
       "    <tr>\n",
       "      <th>13</th>\n",
       "      <td>-6.9</td>\n",
       "    </tr>\n",
       "    <tr>\n",
       "      <th>14</th>\n",
       "      <td>-9.3</td>\n",
       "    </tr>\n",
       "    <tr>\n",
       "      <th>15</th>\n",
       "      <td>-4.3</td>\n",
       "    </tr>\n",
       "    <tr>\n",
       "      <th>16</th>\n",
       "      <td>3.7</td>\n",
       "    </tr>\n",
       "    <tr>\n",
       "      <th>17</th>\n",
       "      <td>-1.3</td>\n",
       "    </tr>\n",
       "    <tr>\n",
       "      <th>18</th>\n",
       "      <td>-0.3</td>\n",
       "    </tr>\n",
       "    <tr>\n",
       "      <th>19</th>\n",
       "      <td>7.1</td>\n",
       "    </tr>\n",
       "    <tr>\n",
       "      <th>20</th>\n",
       "      <td>-1.4</td>\n",
       "    </tr>\n",
       "    <tr>\n",
       "      <th>21</th>\n",
       "      <td>-1.7</td>\n",
       "    </tr>\n",
       "    <tr>\n",
       "      <th>22</th>\n",
       "      <td>-3.5</td>\n",
       "    </tr>\n",
       "    <tr>\n",
       "      <th>23</th>\n",
       "      <td>3.1</td>\n",
       "    </tr>\n",
       "    <tr>\n",
       "      <th>24</th>\n",
       "      <td>9.1</td>\n",
       "    </tr>\n",
       "    <tr>\n",
       "      <th>25</th>\n",
       "      <td>5.6</td>\n",
       "    </tr>\n",
       "    <tr>\n",
       "      <th>26</th>\n",
       "      <td>2.9</td>\n",
       "    </tr>\n",
       "    <tr>\n",
       "      <th>27</th>\n",
       "      <td>0.2</td>\n",
       "    </tr>\n",
       "    <tr>\n",
       "      <th>28</th>\n",
       "      <td>0.1</td>\n",
       "    </tr>\n",
       "    <tr>\n",
       "      <th>29</th>\n",
       "      <td>8.7</td>\n",
       "    </tr>\n",
       "    <tr>\n",
       "      <th>30</th>\n",
       "      <td>1.1</td>\n",
       "    </tr>\n",
       "    <tr>\n",
       "      <th>31</th>\n",
       "      <td>10.5</td>\n",
       "    </tr>\n",
       "    <tr>\n",
       "      <th>32</th>\n",
       "      <td>10.7</td>\n",
       "    </tr>\n",
       "    <tr>\n",
       "      <th>33</th>\n",
       "      <td>-8.2</td>\n",
       "    </tr>\n",
       "    <tr>\n",
       "      <th>34</th>\n",
       "      <td>-0.7</td>\n",
       "    </tr>\n",
       "  </tbody>\n",
       "</table>\n",
       "</div>"
      ],
      "text/plain": [
       "    Janvier\n",
       "0       2.9\n",
       "1       9.1\n",
       "2      -0.2\n",
       "3       3.3\n",
       "4      -1.1\n",
       "5      -0.4\n",
       "6       4.8\n",
       "7      -5.8\n",
       "8      -5.9\n",
       "9      -3.7\n",
       "10     10.5\n",
       "11      3.4\n",
       "12      5.0\n",
       "13     -6.9\n",
       "14     -9.3\n",
       "15     -4.3\n",
       "16      3.7\n",
       "17     -1.3\n",
       "18     -0.3\n",
       "19      7.1\n",
       "20     -1.4\n",
       "21     -1.7\n",
       "22     -3.5\n",
       "23      3.1\n",
       "24      9.1\n",
       "25      5.6\n",
       "26      2.9\n",
       "27      0.2\n",
       "28      0.1\n",
       "29      8.7\n",
       "30      1.1\n",
       "31     10.5\n",
       "32     10.7\n",
       "33     -8.2\n",
       "34     -0.7"
      ]
     },
     "execution_count": 99,
     "metadata": {},
     "output_type": "execute_result"
    }
   ],
   "source": [
    "temperatures[[\"Janvier\"]]"
   ]
  },
  {
   "cell_type": "code",
   "execution_count": 100,
   "id": "95a47bad",
   "metadata": {},
   "outputs": [
    {
     "data": {
      "text/html": [
       "<div>\n",
       "<style scoped>\n",
       "    .dataframe tbody tr th:only-of-type {\n",
       "        vertical-align: middle;\n",
       "    }\n",
       "\n",
       "    .dataframe tbody tr th {\n",
       "        vertical-align: top;\n",
       "    }\n",
       "\n",
       "    .dataframe thead th {\n",
       "        text-align: right;\n",
       "    }\n",
       "</style>\n",
       "<table border=\"1\" class=\"dataframe\">\n",
       "  <thead>\n",
       "    <tr style=\"text-align: right;\">\n",
       "      <th></th>\n",
       "      <th>Janvier</th>\n",
       "      <th>Fevrier</th>\n",
       "    </tr>\n",
       "  </thead>\n",
       "  <tbody>\n",
       "    <tr>\n",
       "      <th>0</th>\n",
       "      <td>2.9</td>\n",
       "      <td>2.5</td>\n",
       "    </tr>\n",
       "    <tr>\n",
       "      <th>1</th>\n",
       "      <td>9.1</td>\n",
       "      <td>9.7</td>\n",
       "    </tr>\n",
       "    <tr>\n",
       "      <th>2</th>\n",
       "      <td>-0.2</td>\n",
       "      <td>0.1</td>\n",
       "    </tr>\n",
       "    <tr>\n",
       "      <th>3</th>\n",
       "      <td>3.3</td>\n",
       "      <td>3.3</td>\n",
       "    </tr>\n",
       "    <tr>\n",
       "      <th>4</th>\n",
       "      <td>-1.1</td>\n",
       "      <td>0.8</td>\n",
       "    </tr>\n",
       "    <tr>\n",
       "      <th>5</th>\n",
       "      <td>-0.4</td>\n",
       "      <td>-0.4</td>\n",
       "    </tr>\n",
       "    <tr>\n",
       "      <th>6</th>\n",
       "      <td>4.8</td>\n",
       "      <td>5.0</td>\n",
       "    </tr>\n",
       "    <tr>\n",
       "      <th>7</th>\n",
       "      <td>-5.8</td>\n",
       "      <td>-6.2</td>\n",
       "    </tr>\n",
       "    <tr>\n",
       "      <th>8</th>\n",
       "      <td>-5.9</td>\n",
       "      <td>-5.0</td>\n",
       "    </tr>\n",
       "    <tr>\n",
       "      <th>9</th>\n",
       "      <td>-3.7</td>\n",
       "      <td>-2.0</td>\n",
       "    </tr>\n",
       "    <tr>\n",
       "      <th>10</th>\n",
       "      <td>10.5</td>\n",
       "      <td>11.3</td>\n",
       "    </tr>\n",
       "    <tr>\n",
       "      <th>11</th>\n",
       "      <td>3.4</td>\n",
       "      <td>4.2</td>\n",
       "    </tr>\n",
       "    <tr>\n",
       "      <th>12</th>\n",
       "      <td>5.0</td>\n",
       "      <td>6.6</td>\n",
       "    </tr>\n",
       "    <tr>\n",
       "      <th>13</th>\n",
       "      <td>-6.9</td>\n",
       "      <td>-6.2</td>\n",
       "    </tr>\n",
       "    <tr>\n",
       "      <th>14</th>\n",
       "      <td>-9.3</td>\n",
       "      <td>-7.6</td>\n",
       "    </tr>\n",
       "    <tr>\n",
       "      <th>15</th>\n",
       "      <td>-4.3</td>\n",
       "      <td>-3.8</td>\n",
       "    </tr>\n",
       "    <tr>\n",
       "      <th>16</th>\n",
       "      <td>3.7</td>\n",
       "      <td>3.7</td>\n",
       "    </tr>\n",
       "    <tr>\n",
       "      <th>17</th>\n",
       "      <td>-1.3</td>\n",
       "      <td>0.2</td>\n",
       "    </tr>\n",
       "    <tr>\n",
       "      <th>18</th>\n",
       "      <td>-0.3</td>\n",
       "      <td>0.1</td>\n",
       "    </tr>\n",
       "    <tr>\n",
       "      <th>19</th>\n",
       "      <td>7.1</td>\n",
       "      <td>8.2</td>\n",
       "    </tr>\n",
       "    <tr>\n",
       "      <th>20</th>\n",
       "      <td>-1.4</td>\n",
       "      <td>0.8</td>\n",
       "    </tr>\n",
       "    <tr>\n",
       "      <th>21</th>\n",
       "      <td>-1.7</td>\n",
       "      <td>0.2</td>\n",
       "    </tr>\n",
       "    <tr>\n",
       "      <th>22</th>\n",
       "      <td>-3.5</td>\n",
       "      <td>-3.5</td>\n",
       "    </tr>\n",
       "    <tr>\n",
       "      <th>23</th>\n",
       "      <td>3.1</td>\n",
       "      <td>2.9</td>\n",
       "    </tr>\n",
       "    <tr>\n",
       "      <th>24</th>\n",
       "      <td>9.1</td>\n",
       "      <td>10.3</td>\n",
       "    </tr>\n",
       "    <tr>\n",
       "      <th>25</th>\n",
       "      <td>5.6</td>\n",
       "      <td>6.7</td>\n",
       "    </tr>\n",
       "    <tr>\n",
       "      <th>26</th>\n",
       "      <td>2.9</td>\n",
       "      <td>3.6</td>\n",
       "    </tr>\n",
       "    <tr>\n",
       "      <th>27</th>\n",
       "      <td>0.2</td>\n",
       "      <td>1.8</td>\n",
       "    </tr>\n",
       "    <tr>\n",
       "      <th>28</th>\n",
       "      <td>0.1</td>\n",
       "      <td>1.9</td>\n",
       "    </tr>\n",
       "    <tr>\n",
       "      <th>29</th>\n",
       "      <td>8.7</td>\n",
       "      <td>8.7</td>\n",
       "    </tr>\n",
       "    <tr>\n",
       "      <th>30</th>\n",
       "      <td>1.1</td>\n",
       "      <td>3.6</td>\n",
       "    </tr>\n",
       "    <tr>\n",
       "      <th>31</th>\n",
       "      <td>10.5</td>\n",
       "      <td>11.5</td>\n",
       "    </tr>\n",
       "    <tr>\n",
       "      <th>32</th>\n",
       "      <td>10.7</td>\n",
       "      <td>11.8</td>\n",
       "    </tr>\n",
       "    <tr>\n",
       "      <th>33</th>\n",
       "      <td>-8.2</td>\n",
       "      <td>-7.9</td>\n",
       "    </tr>\n",
       "    <tr>\n",
       "      <th>34</th>\n",
       "      <td>-0.7</td>\n",
       "      <td>0.7</td>\n",
       "    </tr>\n",
       "  </tbody>\n",
       "</table>\n",
       "</div>"
      ],
      "text/plain": [
       "    Janvier  Fevrier\n",
       "0       2.9      2.5\n",
       "1       9.1      9.7\n",
       "2      -0.2      0.1\n",
       "3       3.3      3.3\n",
       "4      -1.1      0.8\n",
       "5      -0.4     -0.4\n",
       "6       4.8      5.0\n",
       "7      -5.8     -6.2\n",
       "8      -5.9     -5.0\n",
       "9      -3.7     -2.0\n",
       "10     10.5     11.3\n",
       "11      3.4      4.2\n",
       "12      5.0      6.6\n",
       "13     -6.9     -6.2\n",
       "14     -9.3     -7.6\n",
       "15     -4.3     -3.8\n",
       "16      3.7      3.7\n",
       "17     -1.3      0.2\n",
       "18     -0.3      0.1\n",
       "19      7.1      8.2\n",
       "20     -1.4      0.8\n",
       "21     -1.7      0.2\n",
       "22     -3.5     -3.5\n",
       "23      3.1      2.9\n",
       "24      9.1     10.3\n",
       "25      5.6      6.7\n",
       "26      2.9      3.6\n",
       "27      0.2      1.8\n",
       "28      0.1      1.9\n",
       "29      8.7      8.7\n",
       "30      1.1      3.6\n",
       "31     10.5     11.5\n",
       "32     10.7     11.8\n",
       "33     -8.2     -7.9\n",
       "34     -0.7      0.7"
      ]
     },
     "execution_count": 100,
     "metadata": {},
     "output_type": "execute_result"
    }
   ],
   "source": [
    "temperatures[[\"Janvier\",\"Fevrier\"]]"
   ]
  },
  {
   "cell_type": "markdown",
   "id": "a949de0f",
   "metadata": {},
   "source": [
    "Ou bien la 1e ligne (attention, la numérotation commence à 0 !) :"
   ]
  },
  {
   "cell_type": "code",
   "execution_count": 101,
   "id": "3101ab26",
   "metadata": {},
   "outputs": [
    {
     "data": {
      "text/plain": [
       "Unnamed: 0    Amsterdam\n",
       "Janvier             2.9\n",
       "Fevrier             2.5\n",
       "Mars                5.7\n",
       "Avril               8.2\n",
       "Mai                12.5\n",
       "Juin               14.8\n",
       "Juillet            17.1\n",
       "Aout               17.1\n",
       "Septembre          14.5\n",
       "Octobre            11.4\n",
       "Novembre            7.0\n",
       "Decembre            4.4\n",
       "Moyenne             9.9\n",
       "Amplitude          14.6\n",
       "Latitude           52.2\n",
       "Longitude           4.5\n",
       "Region            Ouest\n",
       "Name: 0, dtype: object"
      ]
     },
     "execution_count": 101,
     "metadata": {},
     "output_type": "execute_result"
    }
   ],
   "source": [
    "temperatures.loc[0]"
   ]
  },
  {
   "cell_type": "markdown",
   "id": "4edcf3bf",
   "metadata": {},
   "source": [
    "Ou encore l'intersection d'une ligne et d'une colonne :"
   ]
  },
  {
   "cell_type": "code",
   "execution_count": 102,
   "id": "3d6b263a",
   "metadata": {},
   "outputs": [
    {
     "data": {
      "text/plain": [
       "2.9"
      ]
     },
     "execution_count": 102,
     "metadata": {},
     "output_type": "execute_result"
    }
   ],
   "source": [
    "temperatures.loc[0,\"Janvier\"]"
   ]
  },
  {
   "cell_type": "markdown",
   "id": "ef0e72f9",
   "metadata": {},
   "source": [
    "Les boxplots (ou boîtes à moustaches) sont un outil de visualisation d'une variable quantitative (numérique) très intéressants ! La barre du milieu indique la valeur médiane, les bords de la boîte sont les quartiles, qu'on note $Q_1$ et$Q_3$. Pour les \"moustaches\", cela dépend des conventions, ça peut être les valeurs minimales et maximales, ou bien les quantiles d'ordre 5% et 95%, dans Python, elles sont données par $Q_1-1.5(Q_3-1)$ et $Q_3+1.5(Q_3-1)$. Ce qui est important, c'est que les boxplots nous renseignent sur les valeurs prises par la variable d'intérêt et notamment sur la dispersion des valeurs."
   ]
  },
  {
   "cell_type": "code",
   "execution_count": 103,
   "id": "81bda189",
   "metadata": {},
   "outputs": [
    {
     "data": {
      "text/plain": [
       "<AxesSubplot:>"
      ]
     },
     "execution_count": 103,
     "metadata": {},
     "output_type": "execute_result"
    },
    {
     "data": {
      "image/png": "[encoded data removed]",
      "text/plain": [
       "<Figure size 432x288 with 1 Axes>"
      ]
     },
     "metadata": {
      "needs_background": "light"
     },
     "output_type": "display_data"
    }
   ],
   "source": [
    "temperatures[[\"Janvier\"]].boxplot()"
   ]
  },
  {
   "cell_type": "markdown",
   "id": "c3b22ffc",
   "metadata": {},
   "source": [
    "On peut représenter plusieurs boxplots sur la même figure, ce qui permet notamment de les comparer. On voit par exemple une augmentation de la température, progressive de Janvier à Juillet, mais également que les températures varient moins en juillet qu'en janvier (les valeurs sont moins dispersées)."
   ]
  },
  {
   "cell_type": "code",
   "execution_count": 104,
   "id": "7f2e21c5",
   "metadata": {},
   "outputs": [
    {
     "data": {
      "text/plain": [
       "<AxesSubplot:>"
      ]
     },
     "execution_count": 104,
     "metadata": {},
     "output_type": "execute_result"
    },
    {
     "data": {
      "image/png": "[encoded data removed]",
      "text/plain": [
       "<Figure size 432x288 with 1 Axes>"
      ]
     },
     "metadata": {
      "needs_background": "light"
     },
     "output_type": "display_data"
    }
   ],
   "source": [
    "temperatures[[\"Janvier\",\"Fevrier\",\"Mars\",\"Avril\",\"Mai\",\"Juin\",\"Juillet\"]].boxplot()"
   ]
  },
  {
   "cell_type": "raw",
   "id": "4b61894c",
   "metadata": {},
   "source": [
    "La fonction groupby est très utile pour regrouper des variables en sous-groupes : par exemple, on peut afficher la température moyenne par région aux mois de janvier et février :"
   ]
  },
  {
   "cell_type": "code",
   "execution_count": 105,
   "id": "c646c1bb",
   "metadata": {},
   "outputs": [
    {
     "data": {
      "text/html": [
       "<div>\n",
       "<style scoped>\n",
       "    .dataframe tbody tr th:only-of-type {\n",
       "        vertical-align: middle;\n",
       "    }\n",
       "\n",
       "    .dataframe tbody tr th {\n",
       "        vertical-align: top;\n",
       "    }\n",
       "\n",
       "    .dataframe thead th {\n",
       "        text-align: right;\n",
       "    }\n",
       "</style>\n",
       "<table border=\"1\" class=\"dataframe\">\n",
       "  <thead>\n",
       "    <tr style=\"text-align: right;\">\n",
       "      <th></th>\n",
       "      <th>Janvier</th>\n",
       "      <th>Fevrier</th>\n",
       "    </tr>\n",
       "    <tr>\n",
       "      <th>Region</th>\n",
       "      <th></th>\n",
       "      <th></th>\n",
       "    </tr>\n",
       "  </thead>\n",
       "  <tbody>\n",
       "    <tr>\n",
       "      <th>Est</th>\n",
       "      <td>-4.7625</td>\n",
       "      <td>-3.437500</td>\n",
       "    </tr>\n",
       "    <tr>\n",
       "      <th>Nord</th>\n",
       "      <td>-0.4000</td>\n",
       "      <td>-0.125000</td>\n",
       "    </tr>\n",
       "    <tr>\n",
       "      <th>Ouest</th>\n",
       "      <td>2.0000</td>\n",
       "      <td>2.622222</td>\n",
       "    </tr>\n",
       "    <tr>\n",
       "      <th>Sud</th>\n",
       "      <td>7.0400</td>\n",
       "      <td>8.250000</td>\n",
       "    </tr>\n",
       "  </tbody>\n",
       "</table>\n",
       "</div>"
      ],
      "text/plain": [
       "        Janvier   Fevrier\n",
       "Region                   \n",
       "Est     -4.7625 -3.437500\n",
       "Nord    -0.4000 -0.125000\n",
       "Ouest    2.0000  2.622222\n",
       "Sud      7.0400  8.250000"
      ]
     },
     "execution_count": 105,
     "metadata": {},
     "output_type": "execute_result"
    }
   ],
   "source": [
    "\n",
    "temp_mean=temperatures.groupby(\"Region\")[[\"Janvier\",\"Fevrier\"]].mean()\n",
    "\n",
    "temp_mean"
   ]
  },
  {
   "cell_type": "markdown",
   "id": "a4a17f3e",
   "metadata": {},
   "source": [
    "## Autres représentations"
   ]
  },
  {
   "cell_type": "markdown",
   "id": "97d3772c",
   "metadata": {},
   "source": [
    "Sous forme de courbes :"
   ]
  },
  {
   "cell_type": "code",
   "execution_count": 106,
   "id": "822e9157",
   "metadata": {},
   "outputs": [
    {
     "data": {
      "image/png": "[encoded data removed]",
      "text/plain": [
       "<Figure size 720x432 with 1 Axes>"
      ]
     },
     "metadata": {
      "needs_background": "light"
     },
     "output_type": "display_data"
    }
   ],
   "source": [
    "consumption = pd.read_csv('defra_consumption.csv', sep=';', index_col=0)\n",
    "consumption.plot(figsize=(10, 6));"
   ]
  },
  {
   "cell_type": "markdown",
   "id": "cbe7c8c6",
   "metadata": {},
   "source": [
    "Sous forme de barplot (diagramme en barres) :"
   ]
  },
  {
   "cell_type": "code",
   "execution_count": 107,
   "id": "a5432a0e",
   "metadata": {},
   "outputs": [
    {
     "data": {
      "image/png": "[encoded data removed]",
      "text/plain": [
       "<Figure size 720x432 with 1 Axes>"
      ]
     },
     "metadata": {
      "needs_background": "light"
     },
     "output_type": "display_data"
    }
   ],
   "source": [
    "\n",
    "\n",
    "\n",
    "consumption.plot.barh(stacked=True, figsize=(10, 6));"
   ]
  },
  {
   "cell_type": "markdown",
   "id": "d34e8b58",
   "metadata": {},
   "source": [
    "Sous forme de camembert (pie) : ici on a fait les moyennes par type de produit."
   ]
  },
  {
   "cell_type": "code",
   "execution_count": 108,
   "id": "fc7708ff",
   "metadata": {},
   "outputs": [
    {
     "data": {
      "text/plain": [
       "<AxesSubplot:ylabel='None'>"
      ]
     },
     "execution_count": 108,
     "metadata": {},
     "output_type": "execute_result"
    },
    {
     "data": {
      "image/png": "[encoded data removed]",
      "text/plain": [
       "<Figure size 432x432 with 1 Axes>"
      ]
     },
     "metadata": {},
     "output_type": "display_data"
    }
   ],
   "source": [
    "consumption.mean(axis=1).plot(kind='pie', figsize=(6, 6))"
   ]
  },
  {
   "cell_type": "markdown",
   "id": "d9b9cdce",
   "metadata": {},
   "source": [
    "## Coder en Python : les boucles"
   ]
  },
  {
   "cell_type": "markdown",
   "id": "519a11cd",
   "metadata": {},
   "source": [
    "### Boucle if "
   ]
  },
  {
   "cell_type": "code",
   "execution_count": 109,
   "id": "360ebd0b",
   "metadata": {},
   "outputs": [
    {
     "name": "stdout",
     "output_type": "stream",
     "text": [
      "goodbye\n"
     ]
    }
   ],
   "source": [
    "x=3\n",
    "y=2\n",
    "if (x<y):\n",
    "    print(\"hello\")\n",
    "elif (x==y):\n",
    "    print(\"hi\")\n",
    "else:\n",
    "    print(\"goodbye\")"
   ]
  },
  {
   "cell_type": "markdown",
   "id": "2dfa8dff",
   "metadata": {},
   "source": [
    "### Boucle for"
   ]
  },
  {
   "cell_type": "code",
   "execution_count": 110,
   "id": "1851c51a",
   "metadata": {},
   "outputs": [
    {
     "name": "stdout",
     "output_type": "stream",
     "text": [
      "10\n"
     ]
    }
   ],
   "source": [
    "compteur=0\n",
    "for i in range(10):\n",
    "    compteur=compteur+1\n",
    "print(compteur)    "
   ]
  },
  {
   "cell_type": "markdown",
   "id": "a9fca321",
   "metadata": {},
   "source": [
    "On utilise très souvent la fonction \"range\" qui donne une suite d'éléments. Par défaut range(n) donne tous les éléments entiers entre 0 et n (exclus), mais on peut aussi lui préciser le début, la fin et le pas de la suite :"
   ]
  },
  {
   "cell_type": "code",
   "execution_count": 111,
   "id": "f58e2203",
   "metadata": {},
   "outputs": [
    {
     "name": "stdout",
     "output_type": "stream",
     "text": [
      "10\n",
      "12\n",
      "14\n",
      "16\n",
      "18\n"
     ]
    }
   ],
   "source": [
    "for i in range(10,20,2):\n",
    "    print(i)"
   ]
  },
  {
   "cell_type": "markdown",
   "id": "7ac569f6",
   "metadata": {},
   "source": [
    "### Boucle while"
   ]
  },
  {
   "cell_type": "code",
   "execution_count": 112,
   "id": "e3eb10b5",
   "metadata": {},
   "outputs": [
    {
     "name": "stdout",
     "output_type": "stream",
     "text": [
      "0\n",
      "1\n",
      "2\n",
      "3\n",
      "4\n"
     ]
    }
   ],
   "source": [
    "i=0\n",
    "while (i <5):\n",
    "    print(i)\n",
    "    i=i+1\n"
   ]
  },
  {
   "cell_type": "markdown",
   "id": "6d607a0f",
   "metadata": {},
   "source": [
    "### Les fonctions"
   ]
  },
  {
   "cell_type": "code",
   "execution_count": 113,
   "id": "6b46f515",
   "metadata": {},
   "outputs": [],
   "source": [
    "def f(a,b):\n",
    "    return a+3*b\n",
    "    "
   ]
  },
  {
   "cell_type": "code",
   "execution_count": 114,
   "id": "f17c8f3b",
   "metadata": {},
   "outputs": [
    {
     "data": {
      "text/plain": [
       "17"
      ]
     },
     "execution_count": 114,
     "metadata": {},
     "output_type": "execute_result"
    }
   ],
   "source": [
    "f(2,5)"
   ]
  },
  {
   "cell_type": "markdown",
   "id": "f93b93f1",
   "metadata": {},
   "source": [
    "## Exercices"
   ]
  },
  {
   "cell_type": "markdown",
   "id": "45e26755",
   "metadata": {},
   "source": [
    "Exercice 1 : Calculer de deux façons différentes la somme des entiers impairs entre 1 et 100."
   ]
  },
  {
   "cell_type": "code",
   "execution_count": 115,
   "id": "4ad2cf44",
   "metadata": {},
   "outputs": [],
   "source": [
    "### Réponse "
   ]
  },
  {
   "cell_type": "markdown",
   "id": "c20122c8",
   "metadata": {},
   "source": [
    "Exercice 2 : Ecrire une fonction qui prend en entrée deux entiers a et b et qui renvoie leur somme s'ils sont égaux et leur produits sinon."
   ]
  },
  {
   "cell_type": "code",
   "execution_count": null,
   "id": "d697f722",
   "metadata": {},
   "outputs": [],
   "source": [
    "### Réponse"
   ]
  },
  {
   "cell_type": "markdown",
   "id": "f6519adc",
   "metadata": {},
   "source": [
    "Exercice 3 : Créer un sous-tableau issus du tableau Temperatures, qui ne contient que les villes dans lesquelles la température de Janvier est supérieure à 5 degrés."
   ]
  },
  {
   "cell_type": "code",
   "execution_count": 131,
   "id": "750860c1",
   "metadata": {},
   "outputs": [],
   "source": [
    "### Réponse"
   ]
  },
  {
   "cell_type": "code",
   "execution_count": null,
   "id": "961b1378",
   "metadata": {},
   "outputs": [],
   "source": []
  }
 ],
 "metadata": {
  "kernelspec": {
   "display_name": "Python 3 (ipykernel)",
   "language": "python",
   "name": "python3"
  },
  "language_info": {
   "codemirror_mode": {
    "name": "ipython",
    "version": 3
   },
   "file_extension": ".py",
   "mimetype": "text/x-python",
   "name": "python",
   "nbconvert_exporter": "python",
   "pygments_lexer": "ipython3",
   "version": "3.10.12"
  }
 },
 "nbformat": 4,
 "nbformat_minor": 5
}
